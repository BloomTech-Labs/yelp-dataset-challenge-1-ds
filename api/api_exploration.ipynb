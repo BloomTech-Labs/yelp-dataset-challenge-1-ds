{
 "cells": [
  {
   "cell_type": "code",
   "execution_count": 1,
   "metadata": {},
   "outputs": [],
   "source": [
    "# imports\n",
    "\n",
    "# API\n",
    "import requests\n",
    "import json\n",
    "import pandas as pd\n",
    "\n",
    "# web-scraping\n",
    "# from lxml import html"
   ]
  },
  {
   "cell_type": "code",
   "execution_count": 74,
   "metadata": {},
   "outputs": [],
   "source": [
    "# dataframe conversion exploration\n",
    "api_key = ''\n",
    "headers = {'Authorization': 'Bearer %s' % api_key}"
   ]
  },
  {
   "cell_type": "code",
   "execution_count": 94,
   "metadata": {},
   "outputs": [],
   "source": [
    "# GET request url + search parameters\n",
    "url1 = \"https://api.yelp.com/v3/businesses/search\"\n",
    "params = {'name':'Guisados', 'location':'Los+Angeles'}"
   ]
  },
  {
   "cell_type": "code",
   "execution_count": 95,
   "metadata": {},
   "outputs": [
    {
     "name": "stdout",
     "output_type": "stream",
     "text": [
      "The status code is 200\n"
     ]
    }
   ],
   "source": [
    "# GET request\n",
    "req=requests.get(url1, params=params, headers=headers)\n",
    "# proceed only if the status code is 200\n",
    "print('The status code is {}'.format(req.status_code))"
   ]
  },
  {
   "cell_type": "code",
   "execution_count": 96,
   "metadata": {},
   "outputs": [
    {
     "data": {
      "text/plain": [
       "{'Server': 'nginx', 'Content-Type': 'application/json', 'x-routing-service': '10-65-77-73-useast1aprod; site=public_api_v3', 'ratelimit-remaining': '4938', 'x-b3-sampled': '0', 'x-zipkin-id': '38cbc81d410fa30b', 'ratelimit-resettime': '2019-11-22T00:00:00+00:00', 'ratelimit-dailylimit': '5000', 'x-proxied': '10-65-163-96-useast1bprod', 'content-encoding': 'gzip', 'Transfer-Encoding': 'chunked', 'Accept-Ranges': 'bytes', 'Date': 'Thu, 21 Nov 2019 09:19:29 GMT', 'Via': '1.1 varnish', 'Connection': 'keep-alive', 'X-Served-By': 'cache-ewr18150-EWR', 'X-Cache': 'MISS', 'X-Cache-Hits': '0', 'Vary': 'Accept-Encoding'}"
      ]
     },
     "execution_count": 96,
     "metadata": {},
     "output_type": "execute_result"
    }
   ],
   "source": [
    "req.headers"
   ]
  },
  {
   "cell_type": "code",
   "execution_count": 97,
   "metadata": {},
   "outputs": [],
   "source": [
    "# formatting text from the response \n",
    "pretty_json = json.loads(req.content)\n",
    "\n",
    "df = pd.DataFrame(pretty_json['businesses'])\n",
    "df = df[df.name == 'Guisados']\n",
    "#print(json.dumps(pretty_json, indent=1))"
   ]
  },
  {
   "cell_type": "code",
   "execution_count": 98,
   "metadata": {},
   "outputs": [
    {
     "data": {
      "text/html": [
       "<div>\n",
       "<style scoped>\n",
       "    .dataframe tbody tr th:only-of-type {\n",
       "        vertical-align: middle;\n",
       "    }\n",
       "\n",
       "    .dataframe tbody tr th {\n",
       "        vertical-align: top;\n",
       "    }\n",
       "\n",
       "    .dataframe thead th {\n",
       "        text-align: right;\n",
       "    }\n",
       "</style>\n",
       "<table border=\"1\" class=\"dataframe\">\n",
       "  <thead>\n",
       "    <tr style=\"text-align: right;\">\n",
       "      <th></th>\n",
       "      <th>id</th>\n",
       "      <th>alias</th>\n",
       "      <th>name</th>\n",
       "      <th>image_url</th>\n",
       "      <th>is_closed</th>\n",
       "      <th>url</th>\n",
       "      <th>review_count</th>\n",
       "      <th>categories</th>\n",
       "      <th>rating</th>\n",
       "      <th>coordinates</th>\n",
       "      <th>transactions</th>\n",
       "      <th>price</th>\n",
       "      <th>location</th>\n",
       "      <th>phone</th>\n",
       "      <th>display_phone</th>\n",
       "      <th>distance</th>\n",
       "    </tr>\n",
       "  </thead>\n",
       "  <tbody>\n",
       "  </tbody>\n",
       "</table>\n",
       "</div>"
      ],
      "text/plain": [
       "Empty DataFrame\n",
       "Columns: [id, alias, name, image_url, is_closed, url, review_count, categories, rating, coordinates, transactions, price, location, phone, display_phone, distance]\n",
       "Index: []"
      ]
     },
     "execution_count": 98,
     "metadata": {},
     "output_type": "execute_result"
    }
   ],
   "source": [
    "df.head(15)"
   ]
  },
  {
   "cell_type": "code",
   "execution_count": 61,
   "metadata": {},
   "outputs": [],
   "source": [
    "x = df.iloc[0,12]"
   ]
  },
  {
   "cell_type": "code",
   "execution_count": 63,
   "metadata": {},
   "outputs": [
    {
     "data": {
      "text/plain": [
       "'407 Broad St, Chattanooga, TN 37402'"
      ]
     },
     "execution_count": 63,
     "metadata": {},
     "output_type": "execute_result"
    }
   ],
   "source": [
    "x['address1'] + ', ' + x['city'] + ', ' + x['state'] + ' ' + x['zip_code']"
   ]
  },
  {
   "cell_type": "code",
   "execution_count": 31,
   "metadata": {},
   "outputs": [],
   "source": [
    "x = df.iloc[0,12]['display_address']"
   ]
  },
  {
   "cell_type": "code",
   "execution_count": 35,
   "metadata": {},
   "outputs": [],
   "source": [
    "y = x[0] + ', ' + x[1]"
   ]
  },
  {
   "cell_type": "code",
   "execution_count": 32,
   "metadata": {},
   "outputs": [
    {
     "name": "stdout",
     "output_type": "stream",
     "text": [
      "['407 Broad St', 'Chattanooga, TN 37402']\n"
     ]
    }
   ],
   "source": [
    "address = []\n",
    "for i in x:\n",
    "    s = str(i)\n",
    "    address.append(s)\n",
    "\n",
    "print(address)"
   ]
  },
  {
   "cell_type": "code",
   "execution_count": 97,
   "metadata": {},
   "outputs": [],
   "source": [
    "# url for API call\n",
    "url2 = \"https://api.yelp.com/v3/businesses/L0xgLPox5km8qENoaHhQAg/reviews\""
   ]
  },
  {
   "cell_type": "code",
   "execution_count": 98,
   "metadata": {},
   "outputs": [],
   "source": [
    "# get request\n",
    "req2 = requests.get(url2, headers=headers)"
   ]
  },
  {
   "cell_type": "code",
   "execution_count": 99,
   "metadata": {
    "collapsed": true
   },
   "outputs": [
    {
     "name": "stdout",
     "output_type": "stream",
     "text": [
      "{\n",
      " \"reviews\": [\n",
      "  {\n",
      "   \"id\": \"5HQxg-nxCXBHNyhKNuSY2A\",\n",
      "   \"url\": \"https://www.yelp.com/biz/four-corners-pizza-pelham?adjust_creative=moaf2X_oB6LhkmTGRwADRQ&hrid=5HQxg-nxCXBHNyhKNuSY2A&utm_campaign=yelp_api_v3&utm_medium=api_v3_business_reviews&utm_source=moaf2X_oB6LhkmTGRwADRQ\",\n",
      "   \"text\": \"Let's start off with the claim that this is amazing pizza which is what i heard from a number of people in the area. Is it? No. Is it good? Sure. Is it the...\",\n",
      "   \"rating\": 5,\n",
      "   \"time_created\": \"2019-07-03 17:38:11\",\n",
      "   \"user\": {\n",
      "    \"id\": \"Bw8YeA0qpQINOG67NRPjlQ\",\n",
      "    \"profile_url\": \"https://www.yelp.com/user_details?userid=Bw8YeA0qpQINOG67NRPjlQ\",\n",
      "    \"image_url\": \"https://s3-media3.fl.yelpcdn.com/photo/aGCrv_FheF7Ax1-kZtIr0g/o.jpg\",\n",
      "    \"name\": \"Riy E.\"\n",
      "   }\n",
      "  },\n",
      "  {\n",
      "   \"id\": \"OiwDrg7xellvDA9QIAdAhw\",\n",
      "   \"url\": \"https://www.yelp.com/biz/four-corners-pizza-pelham?adjust_creative=moaf2X_oB6LhkmTGRwADRQ&hrid=OiwDrg7xellvDA9QIAdAhw&utm_campaign=yelp_api_v3&utm_medium=api_v3_business_reviews&utm_source=moaf2X_oB6LhkmTGRwADRQ\",\n",
      "   \"text\": \"Overall rating: A\\n\\nI love this place! It looks like your standard local neighborhood pizzeria and they happen to make really GOOD pizza! There are a few...\",\n",
      "   \"rating\": 5,\n",
      "   \"time_created\": \"2018-09-11 16:52:39\",\n",
      "   \"user\": {\n",
      "    \"id\": \"b4LLSKxqHX0uldR-J0NeDw\",\n",
      "    \"profile_url\": \"https://www.yelp.com/user_details?userid=b4LLSKxqHX0uldR-J0NeDw\",\n",
      "    \"image_url\": \"https://s3-media2.fl.yelpcdn.com/photo/Vix-qyeqx89nFoh6twbLSA/o.jpg\",\n",
      "    \"name\": \"Dinh D.\"\n",
      "   }\n",
      "  },\n",
      "  {\n",
      "   \"id\": \"7FqoUVwQtX4uxnt1M5kNRw\",\n",
      "   \"url\": \"https://www.yelp.com/biz/four-corners-pizza-pelham?adjust_creative=moaf2X_oB6LhkmTGRwADRQ&hrid=7FqoUVwQtX4uxnt1M5kNRw&utm_campaign=yelp_api_v3&utm_medium=api_v3_business_reviews&utm_source=moaf2X_oB6LhkmTGRwADRQ\",\n",
      "   \"text\": \"New York Pizza at its finest!  Ok, so it is in Pelham Manor, just north of the Bronx off of Boston Post Road, yet still authentic, old style NYC pizza...\",\n",
      "   \"rating\": 5,\n",
      "   \"time_created\": \"2019-07-03 14:24:05\",\n",
      "   \"user\": {\n",
      "    \"id\": \"jpgmYodakfm81F_9SwRiFw\",\n",
      "    \"profile_url\": \"https://www.yelp.com/user_details?userid=jpgmYodakfm81F_9SwRiFw\",\n",
      "    \"image_url\": \"https://s3-media1.fl.yelpcdn.com/photo/o0s9mLYsUD1WDtYMgUhG1Q/o.jpg\",\n",
      "    \"name\": \"beke d.\"\n",
      "   }\n",
      "  }\n",
      " ],\n",
      " \"total\": 56,\n",
      " \"possible_languages\": [\n",
      "  \"en\"\n",
      " ]\n",
      "}\n"
     ]
    }
   ],
   "source": [
    "# display API .json output in readable manner\n",
    "pretty_json = json.loads(req2.content)\n",
    "print(json.dumps(pretty_json, indent=1))"
   ]
  },
  {
   "cell_type": "code",
   "execution_count": 100,
   "metadata": {},
   "outputs": [],
   "source": [
    "# convert review .json file into pandas dataframe\n",
    "df = pd.DataFrame(pretty_json['reviews'])"
   ]
  },
  {
   "cell_type": "code",
   "execution_count": 46,
   "metadata": {
    "collapsed": true
   },
   "outputs": [
    {
     "data": {
      "text/html": [
       "<div>\n",
       "<style scoped>\n",
       "    .dataframe tbody tr th:only-of-type {\n",
       "        vertical-align: middle;\n",
       "    }\n",
       "\n",
       "    .dataframe tbody tr th {\n",
       "        vertical-align: top;\n",
       "    }\n",
       "\n",
       "    .dataframe thead th {\n",
       "        text-align: right;\n",
       "    }\n",
       "</style>\n",
       "<table border=\"1\" class=\"dataframe\">\n",
       "  <thead>\n",
       "    <tr style=\"text-align: right;\">\n",
       "      <th></th>\n",
       "      <th>id</th>\n",
       "      <th>alias</th>\n",
       "      <th>name</th>\n",
       "      <th>image_url</th>\n",
       "      <th>is_closed</th>\n",
       "      <th>url</th>\n",
       "      <th>review_count</th>\n",
       "      <th>categories</th>\n",
       "      <th>rating</th>\n",
       "      <th>coordinates</th>\n",
       "      <th>transactions</th>\n",
       "      <th>price</th>\n",
       "      <th>location</th>\n",
       "      <th>phone</th>\n",
       "      <th>display_phone</th>\n",
       "      <th>distance</th>\n",
       "    </tr>\n",
       "  </thead>\n",
       "  <tbody>\n",
       "  </tbody>\n",
       "</table>\n",
       "</div>"
      ],
      "text/plain": [
       "Empty DataFrame\n",
       "Columns: [id, alias, name, image_url, is_closed, url, review_count, categories, rating, coordinates, transactions, price, location, phone, display_phone, distance]\n",
       "Index: []"
      ]
     },
     "execution_count": 46,
     "metadata": {},
     "output_type": "execute_result"
    }
   ],
   "source": [
    "# display dataframe\n",
    "df.head(10)"
   ]
  },
  {
   "cell_type": "code",
   "execution_count": 106,
   "metadata": {
    "collapsed": true
   },
   "outputs": [
    {
     "data": {
      "text/plain": [
       "'New York Pizza at its finest!  Ok, so it is in Pelham Manor, just north of the Bronx off of Boston Post Road, yet still authentic, old style NYC pizza...'"
      ]
     },
     "execution_count": 106,
     "metadata": {},
     "output_type": "execute_result"
    }
   ],
   "source": [
    "# display full value for entry in 'text' column to confirm text is only an excerpt of a review\n",
    "df.iloc[2,2]"
   ]
  },
  {
   "cell_type": "code",
   "execution_count": 13,
   "metadata": {},
   "outputs": [],
   "source": [
    "def yelp_business_df(business_name, city):\n",
    "    \"\"\"\n",
    "    function to strip business information from yelp.com and convert it to a pandas dataframe\n",
    "    \n",
    "    Args:\n",
    "        business_name (str): business name on yelp.com; spelling must be correct\n",
    "        city (str): business's city on yelp.com; spelling must be correct\n",
    "        \n",
    "    Returns:\n",
    "        dataframe: pandas dataframe containing all the information about the business from its yelp.com webpage\n",
    "    \n",
    "    \"\"\"\n",
    "    # api\n",
    "    api_key = ''\n",
    "    headers = {'Authorization': 'Bearer %s' % api_key}\n",
    "    \n",
    "    # yelp url\n",
    "    url = \"https://api.yelp.com/v3/businesses/search\"\n",
    "    params = {'name': business_name, 'location': city}\n",
    "    \n",
    "    # GET request\n",
    "    req=requests.get(url, params=params, headers=headers)\n",
    "    \n",
    "    # formatting text from the response \n",
    "    pretty_json = json.loads(req.content)\n",
    "    df = pd.DataFrame(pretty_json['businesses'])\n",
    "    df = df[df.name == business_name]\n",
    "    \n",
    "    return df"
   ]
  },
  {
   "cell_type": "code",
   "execution_count": 54,
   "metadata": {
    "collapsed": true
   },
   "outputs": [
    {
     "data": {
      "text/html": [
       "<div>\n",
       "<style scoped>\n",
       "    .dataframe tbody tr th:only-of-type {\n",
       "        vertical-align: middle;\n",
       "    }\n",
       "\n",
       "    .dataframe tbody tr th {\n",
       "        vertical-align: top;\n",
       "    }\n",
       "\n",
       "    .dataframe thead th {\n",
       "        text-align: right;\n",
       "    }\n",
       "</style>\n",
       "<table border=\"1\" class=\"dataframe\">\n",
       "  <thead>\n",
       "    <tr style=\"text-align: right;\">\n",
       "      <th></th>\n",
       "      <th>id</th>\n",
       "      <th>alias</th>\n",
       "      <th>name</th>\n",
       "      <th>image_url</th>\n",
       "      <th>is_closed</th>\n",
       "      <th>url</th>\n",
       "      <th>review_count</th>\n",
       "      <th>categories</th>\n",
       "      <th>rating</th>\n",
       "      <th>coordinates</th>\n",
       "      <th>transactions</th>\n",
       "      <th>price</th>\n",
       "      <th>location</th>\n",
       "      <th>phone</th>\n",
       "      <th>display_phone</th>\n",
       "      <th>distance</th>\n",
       "    </tr>\n",
       "  </thead>\n",
       "  <tbody>\n",
       "    <tr>\n",
       "      <th>10</th>\n",
       "      <td>L0xgLPox5km8qENoaHhQAg</td>\n",
       "      <td>four-corners-pizza-pelham</td>\n",
       "      <td>Four Corners Pizza</td>\n",
       "      <td>https://s3-media4.fl.yelpcdn.com/bphoto/-_9GS6...</td>\n",
       "      <td>False</td>\n",
       "      <td>https://www.yelp.com/biz/four-corners-pizza-pe...</td>\n",
       "      <td>56</td>\n",
       "      <td>[{'alias': 'pizza', 'title': 'Pizza'}]</td>\n",
       "      <td>4.0</td>\n",
       "      <td>{'latitude': 40.8960026, 'longitude': -73.8054...</td>\n",
       "      <td>[delivery, pickup]</td>\n",
       "      <td>$</td>\n",
       "      <td>{'address1': '902 Pelhamdale Ave', 'address2':...</td>\n",
       "      <td>+19147380905</td>\n",
       "      <td>(914) 738-0905</td>\n",
       "      <td>454.574059</td>\n",
       "    </tr>\n",
       "  </tbody>\n",
       "</table>\n",
       "</div>"
      ],
      "text/plain": [
       "                        id                      alias                name  \\\n",
       "10  L0xgLPox5km8qENoaHhQAg  four-corners-pizza-pelham  Four Corners Pizza   \n",
       "\n",
       "                                            image_url  is_closed  \\\n",
       "10  https://s3-media4.fl.yelpcdn.com/bphoto/-_9GS6...      False   \n",
       "\n",
       "                                                  url  review_count  \\\n",
       "10  https://www.yelp.com/biz/four-corners-pizza-pe...            56   \n",
       "\n",
       "                                categories  rating  \\\n",
       "10  [{'alias': 'pizza', 'title': 'Pizza'}]     4.0   \n",
       "\n",
       "                                          coordinates        transactions  \\\n",
       "10  {'latitude': 40.8960026, 'longitude': -73.8054...  [delivery, pickup]   \n",
       "\n",
       "   price                                           location         phone  \\\n",
       "10     $  {'address1': '902 Pelhamdale Ave', 'address2':...  +19147380905   \n",
       "\n",
       "     display_phone    distance  \n",
       "10  (914) 738-0905  454.574059  "
      ]
     },
     "execution_count": 54,
     "metadata": {},
     "output_type": "execute_result"
    }
   ],
   "source": [
    "# test\n",
    "df = yelp_business_df('Four Corners Pizza', 'Pelham Manor')\n",
    "df.head()"
   ]
  },
  {
   "cell_type": "code",
   "execution_count": 64,
   "metadata": {
    "collapsed": true
   },
   "outputs": [
    {
     "data": {
      "text/plain": [
       "'L0xgLPox5km8qENoaHhQAg'"
      ]
     },
     "execution_count": 64,
     "metadata": {},
     "output_type": "execute_result"
    }
   ],
   "source": [
    "df.iloc[0,0]"
   ]
  },
  {
   "cell_type": "code",
   "execution_count": 9,
   "metadata": {},
   "outputs": [],
   "source": [
    "def yelp_business_id(business_name, city):\n",
    "    \"\"\"\n",
    "    function to generate a business's yelp.com business_id\n",
    "    \n",
    "    Args:\n",
    "        business_name (str): business name on yelp.com; spelling must be correct\n",
    "        city (str): business's city on yelp.com; spelling must be correct\n",
    "        \n",
    "    Returns:\n",
    "        business_id (str): business_id on yelp.com\n",
    "    \n",
    "    \"\"\"\n",
    "    # api\n",
    "    api_key = api_key\n",
    "    headers = {'Authorization': 'Bearer %s' % api_key}\n",
    "    \n",
    "    # yelp url\n",
    "    url = \"https://api.yelp.com/v3/businesses/search\"\n",
    "    params = {'name': business_name, 'location': city}\n",
    "    \n",
    "    # GET request\n",
    "    req=requests.get(url, params=params, headers=headers)\n",
    "    \n",
    "    # formatting text from the response \n",
    "    pretty_json = json.loads(req.content)\n",
    "    df = pd.DataFrame(pretty_json['businesses'])\n",
    "    df = df[df.name == business_name]\n",
    "    \n",
    "    business_id = df.iloc[0,0]\n",
    "    \n",
    "    return business_id"
   ]
  },
  {
   "cell_type": "code",
   "execution_count": 69,
   "metadata": {},
   "outputs": [],
   "source": [
    "# test\n",
    "x= yelp_business_id('Four Corners Pizza', 'Pelham Manor')"
   ]
  },
  {
   "cell_type": "code",
   "execution_count": 71,
   "metadata": {},
   "outputs": [
    {
     "data": {
      "text/plain": [
       "str"
      ]
     },
     "execution_count": 71,
     "metadata": {},
     "output_type": "execute_result"
    }
   ],
   "source": [
    "type(x)"
   ]
  },
  {
   "cell_type": "code",
   "execution_count": 128,
   "metadata": {},
   "outputs": [],
   "source": [
    "def yelp_business_reviews(business_name, location):\n",
    "    \"\"\"\n",
    "    function to convert a business's 3 most recent reviews from yelp.com and convert them to a pandas dataframe\n",
    "\n",
    "    Args:\n",
    "        business_name (str): business name on yelp.com; spelling must match spelling on yelp.com\n",
    "        location (str): business's city, street address, neighborhood, or zipcode on yelp.com; spelling must match spelling on yelp.com\n",
    "\n",
    "    Returns:\n",
    "        dataframe: pandas dataframe containing business's name, address, text excerpts from reviews of that business, and the corresponding star ratings of the reviews from a business's 3 most-recent reviews on yelp.com\n",
    "\n",
    "    \"\"\"\n",
    "    try:\n",
    "        # api key from yelp fusion\n",
    "        api_key = ''\n",
    "\n",
    "        # headers, url, and parameters to pass to GET request\n",
    "        headers = {'Authorization': 'Bearer %s' % api_key}\n",
    "        url = \"https://api.yelp.com/v3/businesses/search\"\n",
    "        params = {\n",
    "            'term': business_name.replace(' ', '+'),\n",
    "            'location': location.replace(' ', '+'),\n",
    "        }\n",
    "\n",
    "        # business GET request\n",
    "        req=requests.get(url, params=params, headers=headers)\n",
    "\n",
    "        # formatting text from the response - businesses\n",
    "        pretty_json = json.loads(req.content)\n",
    "\n",
    "        # convert response into a dataframe\n",
    "        # limit dataframe to business name from search\n",
    "        df = pd.DataFrame(pretty_json['businesses'])\n",
    "        df = df[df.name == business_name]\n",
    "\n",
    "        # pull business' business_id from dataframe\n",
    "        # located in first column of dataframe's only row\n",
    "        business_id = df.iloc[0,0]\n",
    "\n",
    "        # pull business_location to be used later\n",
    "        raw_loc = df.iloc[0,12]\n",
    "        business_location = str(raw_loc['address1'] + ', ' + raw_loc['city'] + ', ' + raw_loc['state'] + ' ' + raw_loc['zip_code'])\n",
    "\n",
    "        # update URL to yelp review api\n",
    "        # insert business_id from business dataframe into url string\n",
    "        url = \"https://api.yelp.com/v3/businesses/{}/reviews\".format(business_id)\n",
    "\n",
    "        # review GET request\n",
    "        req = requests.get(url, headers=headers)\n",
    "\n",
    "        # formatting text from response - reviews\n",
    "        pretty_json = json.loads(req.content)\n",
    "\n",
    "        # convert response into a dataframe\n",
    "        # add business_name & business location to dataframe for clarity\n",
    "        # drop unnecessary columns\n",
    "        df = pd.DataFrame(pretty_json['reviews'])\n",
    "        df['business_name'] = business_name\n",
    "        df['business_location'] = business_location\n",
    "        df = df.drop(columns=['id', 'url', 'time_created', 'user'])\n",
    "\n",
    "        # strip .html from 'text' column\n",
    "        df['text'] = df['text'].str.replace('(\\d{1,2}[/. ](?:\\d{1,2}|January|Jan)[/. ]\\d{2}(?:\\d{2})?)', '')\n",
    "        df['text'] = df['text'].str.replace('\\n\\n', '. ')                                    \n",
    "        df['text'] = df['text'].str.replace('\\\\n', ' ')\n",
    "        df['text'] = df['text'].str.replace('\\n', ' ')\n",
    "\n",
    "        # reorganize columns of dataframe\n",
    "        # change 'text' column name to 'review_text'\n",
    "        cols = ['business_name', 'business_location', 'text', 'rating']\n",
    "        df = df[cols]\n",
    "        df = df.rename(columns={\"text\": \"review_text\"})\n",
    "\n",
    "        return df\n",
    "    \n",
    "    except:\n",
    "        print('Sorry! Either name or location provided in search was not specific enough for the Yelp API.  Please try again.')"
   ]
  },
  {
   "cell_type": "code",
   "execution_count": 125,
   "metadata": {},
   "outputs": [
    {
     "data": {
      "text/html": [
       "<div>\n",
       "<style scoped>\n",
       "    .dataframe tbody tr th:only-of-type {\n",
       "        vertical-align: middle;\n",
       "    }\n",
       "\n",
       "    .dataframe tbody tr th {\n",
       "        vertical-align: top;\n",
       "    }\n",
       "\n",
       "    .dataframe thead th {\n",
       "        text-align: right;\n",
       "    }\n",
       "</style>\n",
       "<table border=\"1\" class=\"dataframe\">\n",
       "  <thead>\n",
       "    <tr style=\"text-align: right;\">\n",
       "      <th></th>\n",
       "      <th>business_name</th>\n",
       "      <th>business_location</th>\n",
       "      <th>review_text</th>\n",
       "      <th>rating</th>\n",
       "    </tr>\n",
       "  </thead>\n",
       "  <tbody>\n",
       "    <tr>\n",
       "      <th>0</th>\n",
       "      <td>Southside Social</td>\n",
       "      <td>1818 Chestnut St, Chattanooga, TN 37408</td>\n",
       "      <td>I wish I could give 6 stars. As soon as we wal...</td>\n",
       "      <td>5</td>\n",
       "    </tr>\n",
       "    <tr>\n",
       "      <th>1</th>\n",
       "      <td>Southside Social</td>\n",
       "      <td>1818 Chestnut St, Chattanooga, TN 37408</td>\n",
       "      <td>Fun hangout spot in Chattanooga. Live music mo...</td>\n",
       "      <td>4</td>\n",
       "    </tr>\n",
       "    <tr>\n",
       "      <th>2</th>\n",
       "      <td>Southside Social</td>\n",
       "      <td>1818 Chestnut St, Chattanooga, TN 37408</td>\n",
       "      <td>Southside Social is always a good time! The at...</td>\n",
       "      <td>5</td>\n",
       "    </tr>\n",
       "  </tbody>\n",
       "</table>\n",
       "</div>"
      ],
      "text/plain": [
       "      business_name                        business_location  \\\n",
       "0  Southside Social  1818 Chestnut St, Chattanooga, TN 37408   \n",
       "1  Southside Social  1818 Chestnut St, Chattanooga, TN 37408   \n",
       "2  Southside Social  1818 Chestnut St, Chattanooga, TN 37408   \n",
       "\n",
       "                                         review_text  rating  \n",
       "0  I wish I could give 6 stars. As soon as we wal...       5  \n",
       "1  Fun hangout spot in Chattanooga. Live music mo...       4  \n",
       "2  Southside Social is always a good time! The at...       5  "
      ]
     },
     "execution_count": 125,
     "metadata": {},
     "output_type": "execute_result"
    }
   ],
   "source": [
    "yelp_business_reviews(\"Southside Social\", 'Chattanooga')"
   ]
  },
  {
   "cell_type": "code",
   "execution_count": 126,
   "metadata": {},
   "outputs": [
    {
     "data": {
      "text/html": [
       "<div>\n",
       "<style scoped>\n",
       "    .dataframe tbody tr th:only-of-type {\n",
       "        vertical-align: middle;\n",
       "    }\n",
       "\n",
       "    .dataframe tbody tr th {\n",
       "        vertical-align: top;\n",
       "    }\n",
       "\n",
       "    .dataframe thead th {\n",
       "        text-align: right;\n",
       "    }\n",
       "</style>\n",
       "<table border=\"1\" class=\"dataframe\">\n",
       "  <thead>\n",
       "    <tr style=\"text-align: right;\">\n",
       "      <th></th>\n",
       "      <th>business_name</th>\n",
       "      <th>business_location</th>\n",
       "      <th>review_text</th>\n",
       "      <th>rating</th>\n",
       "    </tr>\n",
       "  </thead>\n",
       "  <tbody>\n",
       "    <tr>\n",
       "      <th>0</th>\n",
       "      <td>La Piazza</td>\n",
       "      <td>1137 Old Country Rd, Plainview, NY 11803</td>\n",
       "      <td>This place is straight up bomb. If you're like...</td>\n",
       "      <td>5</td>\n",
       "    </tr>\n",
       "    <tr>\n",
       "      <th>1</th>\n",
       "      <td>La Piazza</td>\n",
       "      <td>1137 Old Country Rd, Plainview, NY 11803</td>\n",
       "      <td>I really can't understand La Piazza.  It's pos...</td>\n",
       "      <td>2</td>\n",
       "    </tr>\n",
       "    <tr>\n",
       "      <th>2</th>\n",
       "      <td>La Piazza</td>\n",
       "      <td>1137 Old Country Rd, Plainview, NY 11803</td>\n",
       "      <td>Food is great, guys at  counter terrible!  Nas...</td>\n",
       "      <td>1</td>\n",
       "    </tr>\n",
       "  </tbody>\n",
       "</table>\n",
       "</div>"
      ],
      "text/plain": [
       "  business_name                         business_location  \\\n",
       "0     La Piazza  1137 Old Country Rd, Plainview, NY 11803   \n",
       "1     La Piazza  1137 Old Country Rd, Plainview, NY 11803   \n",
       "2     La Piazza  1137 Old Country Rd, Plainview, NY 11803   \n",
       "\n",
       "                                         review_text  rating  \n",
       "0  This place is straight up bomb. If you're like...       5  \n",
       "1  I really can't understand La Piazza.  It's pos...       2  \n",
       "2  Food is great, guys at  counter terrible!  Nas...       1  "
      ]
     },
     "execution_count": 126,
     "metadata": {},
     "output_type": "execute_result"
    }
   ],
   "source": [
    "yelp_business_reviews(\"La Piazza\",\"1137 Old Country Rd\")"
   ]
  },
  {
   "cell_type": "code",
   "execution_count": 127,
   "metadata": {},
   "outputs": [
    {
     "name": "stdout",
     "output_type": "stream",
     "text": [
      "Sorry! Either name or location provided in search was not specific enough for the Yelp API.  Please try again.\n"
     ]
    }
   ],
   "source": [
    "yelp_business_reviews(\"Guisados\",\"Los Angeles\")"
   ]
  },
  {
   "cell_type": "code",
   "execution_count": null,
   "metadata": {},
   "outputs": [],
   "source": []
  }
 ],
 "metadata": {
  "kernelspec": {
   "display_name": "Python [conda env:yelp] *",
   "language": "python",
   "name": "conda-env-yelp-py"
  },
  "language_info": {
   "codemirror_mode": {
    "name": "ipython",
    "version": 3
   },
   "file_extension": ".py",
   "mimetype": "text/x-python",
   "name": "python",
   "nbconvert_exporter": "python",
   "pygments_lexer": "ipython3",
   "version": "3.7.5"
  }
 },
 "nbformat": 4,
 "nbformat_minor": 2
}
