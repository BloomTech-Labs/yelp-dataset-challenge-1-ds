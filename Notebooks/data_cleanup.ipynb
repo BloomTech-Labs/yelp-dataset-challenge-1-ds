{
 "cells": [
  {
   "cell_type": "code",
   "execution_count": null,
   "metadata": {},
   "outputs": [],
   "source": [
    "# second notebook for Yelp1 Labs 18 Project\n",
    "# data cleanup"
   ]
  },
  {
   "cell_type": "code",
   "execution_count": 27,
   "metadata": {},
   "outputs": [],
   "source": [
    "# imports\n",
    "\n",
    "# dataframe\n",
    "import pandas as pd\n",
    "import json\n",
    "\n",
    "# NLP\n",
    "import gensim\n",
    "from gensim.utils import simple_preprocess\n",
    "from gensim.parsing.preprocessing import STOPWORDS\n",
    "from gensim import corpora"
   ]
  },
  {
   "cell_type": "code",
   "execution_count": 2,
   "metadata": {},
   "outputs": [],
   "source": [
    "# import review.json file from https://www.yelp.com/dataset\n",
    "with open('/Users/ianforrest/Desktop/coding/repos/yelp/yelp_dataset/review.json') as f:\n",
    "    review = json.loads(\"[\" + \n",
    "        f.read().replace(\"}\\n{\", \"},\\n{\") + \n",
    "    \"]\")"
   ]
  },
  {
   "cell_type": "code",
   "execution_count": 3,
   "metadata": {},
   "outputs": [],
   "source": [
    "# convert review.json files to pandas DataFrame 'df_review'\n",
    "df_review = pd.DataFrame(review)"
   ]
  },
  {
   "cell_type": "code",
   "execution_count": 4,
   "metadata": {},
   "outputs": [
    {
     "data": {
      "text/html": [
       "<div>\n",
       "<style scoped>\n",
       "    .dataframe tbody tr th:only-of-type {\n",
       "        vertical-align: middle;\n",
       "    }\n",
       "\n",
       "    .dataframe tbody tr th {\n",
       "        vertical-align: top;\n",
       "    }\n",
       "\n",
       "    .dataframe thead th {\n",
       "        text-align: right;\n",
       "    }\n",
       "</style>\n",
       "<table border=\"1\" class=\"dataframe\">\n",
       "  <thead>\n",
       "    <tr style=\"text-align: right;\">\n",
       "      <th></th>\n",
       "      <th>review_id</th>\n",
       "      <th>user_id</th>\n",
       "      <th>business_id</th>\n",
       "      <th>stars</th>\n",
       "      <th>useful</th>\n",
       "      <th>funny</th>\n",
       "      <th>cool</th>\n",
       "      <th>text</th>\n",
       "      <th>date</th>\n",
       "    </tr>\n",
       "  </thead>\n",
       "  <tbody>\n",
       "    <tr>\n",
       "      <th>0</th>\n",
       "      <td>Q1sbwvVQXV2734tPgoKj4Q</td>\n",
       "      <td>hG7b0MtEbXx5QzbzE6C_VA</td>\n",
       "      <td>ujmEBvifdJM6h6RLv4wQIg</td>\n",
       "      <td>1.0</td>\n",
       "      <td>6</td>\n",
       "      <td>1</td>\n",
       "      <td>0</td>\n",
       "      <td>Total bill for this horrible service? Over $8G...</td>\n",
       "      <td>2013-05-07 04:34:36</td>\n",
       "    </tr>\n",
       "    <tr>\n",
       "      <th>1</th>\n",
       "      <td>GJXCdrto3ASJOqKeVWPi6Q</td>\n",
       "      <td>yXQM5uF2jS6es16SJzNHfg</td>\n",
       "      <td>NZnhc2sEQy3RmzKTZnqtwQ</td>\n",
       "      <td>5.0</td>\n",
       "      <td>0</td>\n",
       "      <td>0</td>\n",
       "      <td>0</td>\n",
       "      <td>I *adore* Travis at the Hard Rock's new Kelly ...</td>\n",
       "      <td>2017-01-14 21:30:33</td>\n",
       "    </tr>\n",
       "    <tr>\n",
       "      <th>2</th>\n",
       "      <td>2TzJjDVDEuAW6MR5Vuc1ug</td>\n",
       "      <td>n6-Gk65cPZL6Uz8qRm3NYw</td>\n",
       "      <td>WTqjgwHlXbSFevF32_DJVw</td>\n",
       "      <td>5.0</td>\n",
       "      <td>3</td>\n",
       "      <td>0</td>\n",
       "      <td>0</td>\n",
       "      <td>I have to say that this office really has it t...</td>\n",
       "      <td>2016-11-09 20:09:03</td>\n",
       "    </tr>\n",
       "    <tr>\n",
       "      <th>3</th>\n",
       "      <td>yi0R0Ugj_xUx_Nek0-_Qig</td>\n",
       "      <td>dacAIZ6fTM6mqwW5uxkskg</td>\n",
       "      <td>ikCg8xy5JIg_NGPx-MSIDA</td>\n",
       "      <td>5.0</td>\n",
       "      <td>0</td>\n",
       "      <td>0</td>\n",
       "      <td>0</td>\n",
       "      <td>Went in for a lunch. Steak sandwich was delici...</td>\n",
       "      <td>2018-01-09 20:56:38</td>\n",
       "    </tr>\n",
       "    <tr>\n",
       "      <th>4</th>\n",
       "      <td>11a8sVPMUFtaC7_ABRkmtw</td>\n",
       "      <td>ssoyf2_x0EQMed6fgHeMyQ</td>\n",
       "      <td>b1b1eb3uo-w561D0ZfCEiQ</td>\n",
       "      <td>1.0</td>\n",
       "      <td>7</td>\n",
       "      <td>0</td>\n",
       "      <td>0</td>\n",
       "      <td>Today was my second out of three sessions I ha...</td>\n",
       "      <td>2018-01-30 23:07:38</td>\n",
       "    </tr>\n",
       "  </tbody>\n",
       "</table>\n",
       "</div>"
      ],
      "text/plain": [
       "                review_id                 user_id             business_id  \\\n",
       "0  Q1sbwvVQXV2734tPgoKj4Q  hG7b0MtEbXx5QzbzE6C_VA  ujmEBvifdJM6h6RLv4wQIg   \n",
       "1  GJXCdrto3ASJOqKeVWPi6Q  yXQM5uF2jS6es16SJzNHfg  NZnhc2sEQy3RmzKTZnqtwQ   \n",
       "2  2TzJjDVDEuAW6MR5Vuc1ug  n6-Gk65cPZL6Uz8qRm3NYw  WTqjgwHlXbSFevF32_DJVw   \n",
       "3  yi0R0Ugj_xUx_Nek0-_Qig  dacAIZ6fTM6mqwW5uxkskg  ikCg8xy5JIg_NGPx-MSIDA   \n",
       "4  11a8sVPMUFtaC7_ABRkmtw  ssoyf2_x0EQMed6fgHeMyQ  b1b1eb3uo-w561D0ZfCEiQ   \n",
       "\n",
       "   stars  useful  funny  cool  \\\n",
       "0    1.0       6      1     0   \n",
       "1    5.0       0      0     0   \n",
       "2    5.0       3      0     0   \n",
       "3    5.0       0      0     0   \n",
       "4    1.0       7      0     0   \n",
       "\n",
       "                                                text                 date  \n",
       "0  Total bill for this horrible service? Over $8G...  2013-05-07 04:34:36  \n",
       "1  I *adore* Travis at the Hard Rock's new Kelly ...  2017-01-14 21:30:33  \n",
       "2  I have to say that this office really has it t...  2016-11-09 20:09:03  \n",
       "3  Went in for a lunch. Steak sandwich was delici...  2018-01-09 20:56:38  \n",
       "4  Today was my second out of three sessions I ha...  2018-01-30 23:07:38  "
      ]
     },
     "execution_count": 4,
     "metadata": {},
     "output_type": "execute_result"
    }
   ],
   "source": [
    "# check df_review to make sure it was created correctly\n",
    "df_review.head()"
   ]
  },
  {
   "cell_type": "code",
   "execution_count": 5,
   "metadata": {},
   "outputs": [
    {
     "data": {
      "text/plain": [
       "Index(['review_id', 'user_id', 'business_id', 'stars', 'useful', 'funny',\n",
       "       'cool', 'text', 'date'],\n",
       "      dtype='object')"
      ]
     },
     "execution_count": 5,
     "metadata": {},
     "output_type": "execute_result"
    }
   ],
   "source": [
    "# check column names of df_review\n",
    "df_review.columns"
   ]
  },
  {
   "cell_type": "code",
   "execution_count": 6,
   "metadata": {},
   "outputs": [
    {
     "data": {
      "text/plain": [
       "5.0    2933082\n",
       "4.0    1468985\n",
       "1.0    1002159\n",
       "3.0     739280\n",
       "2.0     542394\n",
       "Name: stars, dtype: int64"
      ]
     },
     "execution_count": 6,
     "metadata": {},
     "output_type": "execute_result"
    }
   ],
   "source": [
    "# check value counts of 'stars' column\n",
    "df_review['stars'].value_counts()"
   ]
  },
  {
   "cell_type": "code",
   "execution_count": 7,
   "metadata": {},
   "outputs": [
    {
     "data": {
      "text/plain": [
       " 0      3570453\n",
       " 1      1430632\n",
       " 2       669040\n",
       " 3       349808\n",
       " 4       201772\n",
       "         ...   \n",
       " 239          1\n",
       " 235          1\n",
       " 232          1\n",
       " 229          1\n",
       "-1            1\n",
       "Name: useful, Length: 289, dtype: int64"
      ]
     },
     "execution_count": 7,
     "metadata": {},
     "output_type": "execute_result"
    }
   ],
   "source": [
    "# check value counts of useful column\n",
    "df_review['useful'].value_counts()"
   ]
  },
  {
   "cell_type": "code",
   "execution_count": 8,
   "metadata": {},
   "outputs": [
    {
     "data": {
      "text/plain": [
       "0      5312173\n",
       "1       813583\n",
       "2       255974\n",
       "3       111881\n",
       "4        59525\n",
       "        ...   \n",
       "231          1\n",
       "237          1\n",
       "239          1\n",
       "241          1\n",
       "116          1\n",
       "Name: funny, Length: 231, dtype: int64"
      ]
     },
     "execution_count": 8,
     "metadata": {},
     "output_type": "execute_result"
    }
   ],
   "source": [
    "# check value counts of funny column\n",
    "df_review['funny'].value_counts()"
   ]
  },
  {
   "cell_type": "code",
   "execution_count": 9,
   "metadata": {},
   "outputs": [
    {
     "data": {
      "text/plain": [
       " 0      5013287\n",
       " 1      1013484\n",
       " 2       313433\n",
       " 3       129433\n",
       " 4        65993\n",
       "         ...   \n",
       " 179          1\n",
       " 182          1\n",
       " 183          1\n",
       " 184          1\n",
       "-1            1\n",
       "Name: cool, Length: 201, dtype: int64"
      ]
     },
     "execution_count": 9,
     "metadata": {},
     "output_type": "execute_result"
    }
   ],
   "source": [
    "# check value counts of cool column\n",
    "df_review['cool'].value_counts()"
   ]
  },
  {
   "cell_type": "code",
   "execution_count": 10,
   "metadata": {},
   "outputs": [
    {
     "data": {
      "text/plain": [
       "'Would never return.  Do you think these guys are honest? We\\'ve just moved to Las Vegas!!  Loyal BMW customers....I think we have had 10 BMWs altogether.  \\n\\nI walk into this dealership for a pre-inspection report on husband\\'s 528 lease which is up.  The portfolio manager and salesguy inspect and tell me \"its in great shape except for one ding and 2 tires\" No paperwork but they say \"Trust me - we will email you the inspection report--and don\\'t worry! We have BMW financial $$ and you will not owe anything if you turn in your car here to us!\"  \\n\\nFast forward =3 days:  I\\'ve spoken to sales again and they promise they will, but they do not send my inspection report and now they will not answer voicemails. (nor will portfolio manager or general manager) \\n\\nI guess we will just order our next BMW from another dealer who actually does want our business.'"
      ]
     },
     "execution_count": 10,
     "metadata": {},
     "output_type": "execute_result"
    }
   ],
   "source": [
    "# check text of random reviews in dataset as part of initial exploration\n",
    "df_review.iloc[3244,7]"
   ]
  },
  {
   "cell_type": "code",
   "execution_count": 11,
   "metadata": {},
   "outputs": [
    {
     "data": {
      "text/plain": [
       "'Not worth the hype. It\\'s kinda cute how they stick to the mob/speakeasy vibe. Also the staff is very kind. That\\'s where the positives end, unfortunately. \\n\\nThe decor is old school, but not in a good way. Instead of looking like a place that was inspired by decades past, it just looks like the decor hasn\\'t been updated in decades. \\n\\nThe food is nothing to write home about, especially for the price. I started with the \"bust a cap\" stuffed mushrooms, and was not impressed. I was expecting to have my mind blown, but was instantly disappointed instead. Bland and flavorless from the first bite. For my main course, I had a \"chef sleeps with the fishes\". This was better without a doubt, but still only slightly above average. \\n\\nI felt gypped. I honestly could have had better \"Italian\" food at an Olive Garden for less than half the price. Or, alternatively, I could have gotten far superior Italian food on the Strip for a similar price point. \\n\\nAlso, I think it\\'s worth mentioning that they charge $8 to split a dish. No extra soup, no extra salad and the exact same serving size for a single person. Just an $8 up charge to split something. That was super disappointing, because my boyfriend and I almost always split an appetizer and a main course wherever we go. Restaurant portions are huge, we don\\'t ever end up eating leftovers and it\\'s cheaper, so it just makes sense. So to be charged an additional $8 and receive nothing extra return is kinda ridiculous.\\n\\nI don\\'t ever see myself returning.'"
      ]
     },
     "execution_count": 11,
     "metadata": {},
     "output_type": "execute_result"
    }
   ],
   "source": [
    "# check text of random reviews in dataset as part of initial exploration\n",
    "df_review.iloc[2342553,7]"
   ]
  },
  {
   "cell_type": "code",
   "execution_count": 12,
   "metadata": {},
   "outputs": [
    {
     "data": {
      "text/plain": [
       "\"Went in for a lunch. Steak sandwich was delicious, and the Caesar salad had an absolutely delicious dressing, with a perfect amount of dressing, and distributed perfectly across each leaf. I know I'm going on about the salad ... But it was perfect.\\n\\nDrink prices were pretty good.\\n\\nThe Server, Dawn, was friendly and accommodating. Very happy with her.\\n\\nIn summation, a great pub experience. Would go again!\""
      ]
     },
     "execution_count": 12,
     "metadata": {},
     "output_type": "execute_result"
    }
   ],
   "source": [
    "# check text of random reviews in dataset as part of initial exploration\n",
    "df_review.iloc[3,7]"
   ]
  },
  {
   "cell_type": "code",
   "execution_count": null,
   "metadata": {},
   "outputs": [],
   "source": [
    "# export df_review to .csv\n",
    "#df_review.to_csv(r'/Users/ianforrest/Desktop/coding/repos/yelp/yelp_dataset/df_review.csv')"
   ]
  },
  {
   "cell_type": "code",
   "execution_count": 13,
   "metadata": {},
   "outputs": [],
   "source": [
    "# create copy of dataframe to manipulate for model\n",
    "df = df_review.copy()"
   ]
  },
  {
   "cell_type": "code",
   "execution_count": 14,
   "metadata": {},
   "outputs": [
    {
     "data": {
      "text/html": [
       "<div>\n",
       "<style scoped>\n",
       "    .dataframe tbody tr th:only-of-type {\n",
       "        vertical-align: middle;\n",
       "    }\n",
       "\n",
       "    .dataframe tbody tr th {\n",
       "        vertical-align: top;\n",
       "    }\n",
       "\n",
       "    .dataframe thead th {\n",
       "        text-align: right;\n",
       "    }\n",
       "</style>\n",
       "<table border=\"1\" class=\"dataframe\">\n",
       "  <thead>\n",
       "    <tr style=\"text-align: right;\">\n",
       "      <th></th>\n",
       "      <th>review_id</th>\n",
       "      <th>user_id</th>\n",
       "      <th>business_id</th>\n",
       "      <th>stars</th>\n",
       "      <th>useful</th>\n",
       "      <th>funny</th>\n",
       "      <th>cool</th>\n",
       "      <th>text</th>\n",
       "      <th>date</th>\n",
       "    </tr>\n",
       "  </thead>\n",
       "  <tbody>\n",
       "    <tr>\n",
       "      <th>0</th>\n",
       "      <td>Q1sbwvVQXV2734tPgoKj4Q</td>\n",
       "      <td>hG7b0MtEbXx5QzbzE6C_VA</td>\n",
       "      <td>ujmEBvifdJM6h6RLv4wQIg</td>\n",
       "      <td>1.0</td>\n",
       "      <td>6</td>\n",
       "      <td>1</td>\n",
       "      <td>0</td>\n",
       "      <td>Total bill for this horrible service? Over $8G...</td>\n",
       "      <td>2013-05-07 04:34:36</td>\n",
       "    </tr>\n",
       "    <tr>\n",
       "      <th>1</th>\n",
       "      <td>GJXCdrto3ASJOqKeVWPi6Q</td>\n",
       "      <td>yXQM5uF2jS6es16SJzNHfg</td>\n",
       "      <td>NZnhc2sEQy3RmzKTZnqtwQ</td>\n",
       "      <td>5.0</td>\n",
       "      <td>0</td>\n",
       "      <td>0</td>\n",
       "      <td>0</td>\n",
       "      <td>I *adore* Travis at the Hard Rock's new Kelly ...</td>\n",
       "      <td>2017-01-14 21:30:33</td>\n",
       "    </tr>\n",
       "    <tr>\n",
       "      <th>2</th>\n",
       "      <td>2TzJjDVDEuAW6MR5Vuc1ug</td>\n",
       "      <td>n6-Gk65cPZL6Uz8qRm3NYw</td>\n",
       "      <td>WTqjgwHlXbSFevF32_DJVw</td>\n",
       "      <td>5.0</td>\n",
       "      <td>3</td>\n",
       "      <td>0</td>\n",
       "      <td>0</td>\n",
       "      <td>I have to say that this office really has it t...</td>\n",
       "      <td>2016-11-09 20:09:03</td>\n",
       "    </tr>\n",
       "    <tr>\n",
       "      <th>3</th>\n",
       "      <td>yi0R0Ugj_xUx_Nek0-_Qig</td>\n",
       "      <td>dacAIZ6fTM6mqwW5uxkskg</td>\n",
       "      <td>ikCg8xy5JIg_NGPx-MSIDA</td>\n",
       "      <td>5.0</td>\n",
       "      <td>0</td>\n",
       "      <td>0</td>\n",
       "      <td>0</td>\n",
       "      <td>Went in for a lunch. Steak sandwich was delici...</td>\n",
       "      <td>2018-01-09 20:56:38</td>\n",
       "    </tr>\n",
       "    <tr>\n",
       "      <th>4</th>\n",
       "      <td>11a8sVPMUFtaC7_ABRkmtw</td>\n",
       "      <td>ssoyf2_x0EQMed6fgHeMyQ</td>\n",
       "      <td>b1b1eb3uo-w561D0ZfCEiQ</td>\n",
       "      <td>1.0</td>\n",
       "      <td>7</td>\n",
       "      <td>0</td>\n",
       "      <td>0</td>\n",
       "      <td>Today was my second out of three sessions I ha...</td>\n",
       "      <td>2018-01-30 23:07:38</td>\n",
       "    </tr>\n",
       "  </tbody>\n",
       "</table>\n",
       "</div>"
      ],
      "text/plain": [
       "                review_id                 user_id             business_id  \\\n",
       "0  Q1sbwvVQXV2734tPgoKj4Q  hG7b0MtEbXx5QzbzE6C_VA  ujmEBvifdJM6h6RLv4wQIg   \n",
       "1  GJXCdrto3ASJOqKeVWPi6Q  yXQM5uF2jS6es16SJzNHfg  NZnhc2sEQy3RmzKTZnqtwQ   \n",
       "2  2TzJjDVDEuAW6MR5Vuc1ug  n6-Gk65cPZL6Uz8qRm3NYw  WTqjgwHlXbSFevF32_DJVw   \n",
       "3  yi0R0Ugj_xUx_Nek0-_Qig  dacAIZ6fTM6mqwW5uxkskg  ikCg8xy5JIg_NGPx-MSIDA   \n",
       "4  11a8sVPMUFtaC7_ABRkmtw  ssoyf2_x0EQMed6fgHeMyQ  b1b1eb3uo-w561D0ZfCEiQ   \n",
       "\n",
       "   stars  useful  funny  cool  \\\n",
       "0    1.0       6      1     0   \n",
       "1    5.0       0      0     0   \n",
       "2    5.0       3      0     0   \n",
       "3    5.0       0      0     0   \n",
       "4    1.0       7      0     0   \n",
       "\n",
       "                                                text                 date  \n",
       "0  Total bill for this horrible service? Over $8G...  2013-05-07 04:34:36  \n",
       "1  I *adore* Travis at the Hard Rock's new Kelly ...  2017-01-14 21:30:33  \n",
       "2  I have to say that this office really has it t...  2016-11-09 20:09:03  \n",
       "3  Went in for a lunch. Steak sandwich was delici...  2018-01-09 20:56:38  \n",
       "4  Today was my second out of three sessions I ha...  2018-01-30 23:07:38  "
      ]
     },
     "execution_count": 14,
     "metadata": {},
     "output_type": "execute_result"
    }
   ],
   "source": [
    "df.head()"
   ]
  },
  {
   "cell_type": "code",
   "execution_count": 16,
   "metadata": {},
   "outputs": [],
   "source": [
    "# add 'total_votes' column to dataframe; total of 'useful', 'funny', 'cool' columns\n",
    "df['total_votes'] = df['useful'] + df['funny'] + df['cool']"
   ]
  },
  {
   "cell_type": "code",
   "execution_count": 17,
   "metadata": {},
   "outputs": [
    {
     "data": {
      "text/html": [
       "<div>\n",
       "<style scoped>\n",
       "    .dataframe tbody tr th:only-of-type {\n",
       "        vertical-align: middle;\n",
       "    }\n",
       "\n",
       "    .dataframe tbody tr th {\n",
       "        vertical-align: top;\n",
       "    }\n",
       "\n",
       "    .dataframe thead th {\n",
       "        text-align: right;\n",
       "    }\n",
       "</style>\n",
       "<table border=\"1\" class=\"dataframe\">\n",
       "  <thead>\n",
       "    <tr style=\"text-align: right;\">\n",
       "      <th></th>\n",
       "      <th>review_id</th>\n",
       "      <th>user_id</th>\n",
       "      <th>business_id</th>\n",
       "      <th>stars</th>\n",
       "      <th>useful</th>\n",
       "      <th>funny</th>\n",
       "      <th>cool</th>\n",
       "      <th>text</th>\n",
       "      <th>date</th>\n",
       "      <th>total_votes</th>\n",
       "    </tr>\n",
       "  </thead>\n",
       "  <tbody>\n",
       "    <tr>\n",
       "      <th>0</th>\n",
       "      <td>Q1sbwvVQXV2734tPgoKj4Q</td>\n",
       "      <td>hG7b0MtEbXx5QzbzE6C_VA</td>\n",
       "      <td>ujmEBvifdJM6h6RLv4wQIg</td>\n",
       "      <td>1.0</td>\n",
       "      <td>6</td>\n",
       "      <td>1</td>\n",
       "      <td>0</td>\n",
       "      <td>Total bill for this horrible service? Over $8G...</td>\n",
       "      <td>2013-05-07 04:34:36</td>\n",
       "      <td>7</td>\n",
       "    </tr>\n",
       "    <tr>\n",
       "      <th>1</th>\n",
       "      <td>GJXCdrto3ASJOqKeVWPi6Q</td>\n",
       "      <td>yXQM5uF2jS6es16SJzNHfg</td>\n",
       "      <td>NZnhc2sEQy3RmzKTZnqtwQ</td>\n",
       "      <td>5.0</td>\n",
       "      <td>0</td>\n",
       "      <td>0</td>\n",
       "      <td>0</td>\n",
       "      <td>I *adore* Travis at the Hard Rock's new Kelly ...</td>\n",
       "      <td>2017-01-14 21:30:33</td>\n",
       "      <td>0</td>\n",
       "    </tr>\n",
       "    <tr>\n",
       "      <th>2</th>\n",
       "      <td>2TzJjDVDEuAW6MR5Vuc1ug</td>\n",
       "      <td>n6-Gk65cPZL6Uz8qRm3NYw</td>\n",
       "      <td>WTqjgwHlXbSFevF32_DJVw</td>\n",
       "      <td>5.0</td>\n",
       "      <td>3</td>\n",
       "      <td>0</td>\n",
       "      <td>0</td>\n",
       "      <td>I have to say that this office really has it t...</td>\n",
       "      <td>2016-11-09 20:09:03</td>\n",
       "      <td>3</td>\n",
       "    </tr>\n",
       "    <tr>\n",
       "      <th>3</th>\n",
       "      <td>yi0R0Ugj_xUx_Nek0-_Qig</td>\n",
       "      <td>dacAIZ6fTM6mqwW5uxkskg</td>\n",
       "      <td>ikCg8xy5JIg_NGPx-MSIDA</td>\n",
       "      <td>5.0</td>\n",
       "      <td>0</td>\n",
       "      <td>0</td>\n",
       "      <td>0</td>\n",
       "      <td>Went in for a lunch. Steak sandwich was delici...</td>\n",
       "      <td>2018-01-09 20:56:38</td>\n",
       "      <td>0</td>\n",
       "    </tr>\n",
       "    <tr>\n",
       "      <th>4</th>\n",
       "      <td>11a8sVPMUFtaC7_ABRkmtw</td>\n",
       "      <td>ssoyf2_x0EQMed6fgHeMyQ</td>\n",
       "      <td>b1b1eb3uo-w561D0ZfCEiQ</td>\n",
       "      <td>1.0</td>\n",
       "      <td>7</td>\n",
       "      <td>0</td>\n",
       "      <td>0</td>\n",
       "      <td>Today was my second out of three sessions I ha...</td>\n",
       "      <td>2018-01-30 23:07:38</td>\n",
       "      <td>7</td>\n",
       "    </tr>\n",
       "  </tbody>\n",
       "</table>\n",
       "</div>"
      ],
      "text/plain": [
       "                review_id                 user_id             business_id  \\\n",
       "0  Q1sbwvVQXV2734tPgoKj4Q  hG7b0MtEbXx5QzbzE6C_VA  ujmEBvifdJM6h6RLv4wQIg   \n",
       "1  GJXCdrto3ASJOqKeVWPi6Q  yXQM5uF2jS6es16SJzNHfg  NZnhc2sEQy3RmzKTZnqtwQ   \n",
       "2  2TzJjDVDEuAW6MR5Vuc1ug  n6-Gk65cPZL6Uz8qRm3NYw  WTqjgwHlXbSFevF32_DJVw   \n",
       "3  yi0R0Ugj_xUx_Nek0-_Qig  dacAIZ6fTM6mqwW5uxkskg  ikCg8xy5JIg_NGPx-MSIDA   \n",
       "4  11a8sVPMUFtaC7_ABRkmtw  ssoyf2_x0EQMed6fgHeMyQ  b1b1eb3uo-w561D0ZfCEiQ   \n",
       "\n",
       "   stars  useful  funny  cool  \\\n",
       "0    1.0       6      1     0   \n",
       "1    5.0       0      0     0   \n",
       "2    5.0       3      0     0   \n",
       "3    5.0       0      0     0   \n",
       "4    1.0       7      0     0   \n",
       "\n",
       "                                                text                 date  \\\n",
       "0  Total bill for this horrible service? Over $8G...  2013-05-07 04:34:36   \n",
       "1  I *adore* Travis at the Hard Rock's new Kelly ...  2017-01-14 21:30:33   \n",
       "2  I have to say that this office really has it t...  2016-11-09 20:09:03   \n",
       "3  Went in for a lunch. Steak sandwich was delici...  2018-01-09 20:56:38   \n",
       "4  Today was my second out of three sessions I ha...  2018-01-30 23:07:38   \n",
       "\n",
       "   total_votes  \n",
       "0            7  \n",
       "1            0  \n",
       "2            3  \n",
       "3            0  \n",
       "4            7  "
      ]
     },
     "execution_count": 17,
     "metadata": {},
     "output_type": "execute_result"
    }
   ],
   "source": [
    "df.head()"
   ]
  },
  {
   "cell_type": "code",
   "execution_count": 18,
   "metadata": {},
   "outputs": [],
   "source": [
    "# drop unused columns from dataframe\n",
    "df = df.drop(columns=['user_id', 'business_id', 'review_id', 'useful', 'funny', 'cool'])"
   ]
  },
  {
   "cell_type": "code",
   "execution_count": 33,
   "metadata": {},
   "outputs": [
    {
     "data": {
      "text/html": [
       "<div>\n",
       "<style scoped>\n",
       "    .dataframe tbody tr th:only-of-type {\n",
       "        vertical-align: middle;\n",
       "    }\n",
       "\n",
       "    .dataframe tbody tr th {\n",
       "        vertical-align: top;\n",
       "    }\n",
       "\n",
       "    .dataframe thead th {\n",
       "        text-align: right;\n",
       "    }\n",
       "</style>\n",
       "<table border=\"1\" class=\"dataframe\">\n",
       "  <thead>\n",
       "    <tr style=\"text-align: right;\">\n",
       "      <th></th>\n",
       "      <th>stars</th>\n",
       "      <th>text</th>\n",
       "      <th>date</th>\n",
       "      <th>total_votes</th>\n",
       "    </tr>\n",
       "  </thead>\n",
       "  <tbody>\n",
       "    <tr>\n",
       "      <th>0</th>\n",
       "      <td>1.0</td>\n",
       "      <td>Total bill for this horrible service? Over $8G...</td>\n",
       "      <td>2013-05-07 04:34:36</td>\n",
       "      <td>7</td>\n",
       "    </tr>\n",
       "    <tr>\n",
       "      <th>1</th>\n",
       "      <td>5.0</td>\n",
       "      <td>I *adore* Travis at the Hard Rock's new Kelly ...</td>\n",
       "      <td>2017-01-14 21:30:33</td>\n",
       "      <td>0</td>\n",
       "    </tr>\n",
       "    <tr>\n",
       "      <th>2</th>\n",
       "      <td>5.0</td>\n",
       "      <td>I have to say that this office really has it t...</td>\n",
       "      <td>2016-11-09 20:09:03</td>\n",
       "      <td>3</td>\n",
       "    </tr>\n",
       "    <tr>\n",
       "      <th>3</th>\n",
       "      <td>5.0</td>\n",
       "      <td>Went in for a lunch. Steak sandwich was delici...</td>\n",
       "      <td>2018-01-09 20:56:38</td>\n",
       "      <td>0</td>\n",
       "    </tr>\n",
       "    <tr>\n",
       "      <th>4</th>\n",
       "      <td>1.0</td>\n",
       "      <td>Today was my second out of three sessions I ha...</td>\n",
       "      <td>2018-01-30 23:07:38</td>\n",
       "      <td>7</td>\n",
       "    </tr>\n",
       "  </tbody>\n",
       "</table>\n",
       "</div>"
      ],
      "text/plain": [
       "   stars                                               text  \\\n",
       "0    1.0  Total bill for this horrible service? Over $8G...   \n",
       "1    5.0  I *adore* Travis at the Hard Rock's new Kelly ...   \n",
       "2    5.0  I have to say that this office really has it t...   \n",
       "3    5.0  Went in for a lunch. Steak sandwich was delici...   \n",
       "4    1.0  Today was my second out of three sessions I ha...   \n",
       "\n",
       "                 date  total_votes  \n",
       "0 2013-05-07 04:34:36            7  \n",
       "1 2017-01-14 21:30:33            0  \n",
       "2 2016-11-09 20:09:03            3  \n",
       "3 2018-01-09 20:56:38            0  \n",
       "4 2018-01-30 23:07:38            7  "
      ]
     },
     "execution_count": 33,
     "metadata": {},
     "output_type": "execute_result"
    }
   ],
   "source": [
    "df.head()"
   ]
  },
  {
   "cell_type": "code",
   "execution_count": 24,
   "metadata": {},
   "outputs": [],
   "source": [
    "# convert 'date' column to datetime format\n",
    "df['date'] = pd.to_datetime(df['date'])"
   ]
  },
  {
   "cell_type": "code",
   "execution_count": 25,
   "metadata": {},
   "outputs": [
    {
     "data": {
      "text/plain": [
       "stars                 float64\n",
       "text                   object\n",
       "date           datetime64[ns]\n",
       "total_votes             int64\n",
       "dtype: object"
      ]
     },
     "execution_count": 25,
     "metadata": {},
     "output_type": "execute_result"
    }
   ],
   "source": [
    "df.dtypes"
   ]
  },
  {
   "cell_type": "code",
   "execution_count": 26,
   "metadata": {},
   "outputs": [
    {
     "data": {
      "text/plain": [
       " 0      3172103\n",
       " 1      1157537\n",
       " 2       661232\n",
       " 3       483831\n",
       " 4       293820\n",
       "         ...   \n",
       " 412          1\n",
       " 416          1\n",
       " 423          1\n",
       " 426          1\n",
       "-2            1\n",
       "Name: total_votes, Length: 491, dtype: int64"
      ]
     },
     "execution_count": 26,
     "metadata": {},
     "output_type": "execute_result"
    }
   ],
   "source": [
    "# check value counts of 'total_votes' column\n",
    "df['total_votes'].value_counts()"
   ]
  },
  {
   "cell_type": "code",
   "execution_count": 28,
   "metadata": {},
   "outputs": [],
   "source": [
    "# limit dataframe to reviews with 0 or more total votes\n",
    "df = df.loc[df['total_votes'] >= 0]"
   ]
  },
  {
   "cell_type": "code",
   "execution_count": 29,
   "metadata": {},
   "outputs": [
    {
     "data": {
      "text/plain": [
       "0       3172103\n",
       "1       1157537\n",
       "2        661232\n",
       "3        483831\n",
       "4        293820\n",
       "         ...   \n",
       "408           1\n",
       "412           1\n",
       "416           1\n",
       "423           1\n",
       "2256          1\n",
       "Name: total_votes, Length: 490, dtype: int64"
      ]
     },
     "execution_count": 29,
     "metadata": {},
     "output_type": "execute_result"
    }
   ],
   "source": [
    "# check value counts of 'total_votes' column\n",
    "df['total_votes'].value_counts()"
   ]
  },
  {
   "cell_type": "code",
   "execution_count": 37,
   "metadata": {},
   "outputs": [],
   "source": [
    "# remove html code from text column\n",
    "df['text'] = df['text'].str.replace('(\\d{1,2}[/. ](?:\\d{1,2}|January|Jan)[/. ]\\d{2}(?:\\d{2})?)', '')\n",
    "df['text'] = df['text'].str.replace('\\n\\n', '')                                    \n",
    "df['text'] = df['text'].str.replace('\\\\n', '')\n",
    "df['text'] = df['text'].str.replace('\\n', '')"
   ]
  },
  {
   "cell_type": "code",
   "execution_count": 38,
   "metadata": {},
   "outputs": [
    {
     "data": {
      "text/plain": [
       "'Not worth the hype. It\\'s kinda cute how they stick to the mob/speakeasy vibe. Also the staff is very kind. That\\'s where the positives end, unfortunately. The decor is old school, but not in a good way. Instead of looking like a place that was inspired by decades past, it just looks like the decor hasn\\'t been updated in decades. The food is nothing to write home about, especially for the price. I started with the \"bust a cap\" stuffed mushrooms, and was not impressed. I was expecting to have my mind blown, but was instantly disappointed instead. Bland and flavorless from the first bite. For my main course, I had a \"chef sleeps with the fishes\". This was better without a doubt, but still only slightly above average. I felt gypped. I honestly could have had better \"Italian\" food at an Olive Garden for less than half the price. Or, alternatively, I could have gotten far superior Italian food on the Strip for a similar price point. Also, I think it\\'s worth mentioning that they charge $8 to split a dish. No extra soup, no extra salad and the exact same serving size for a single person. Just an $8 up charge to split something. That was super disappointing, because my boyfriend and I almost always split an appetizer and a main course wherever we go. Restaurant portions are huge, we don\\'t ever end up eating leftovers and it\\'s cheaper, so it just makes sense. So to be charged an additional $8 and receive nothing extra return is kinda ridiculous.I don\\'t ever see myself returning.'"
      ]
     },
     "execution_count": 38,
     "metadata": {},
     "output_type": "execute_result"
    }
   ],
   "source": [
    "# check text of random reviews in dataset to make sure HTML code is removed correctly\n",
    "# backslashes before apostrophes are for display purposes only to indicate apostrophes are not quotation marks\n",
    "df.iloc[2342553,1]"
   ]
  },
  {
   "cell_type": "code",
   "execution_count": 39,
   "metadata": {},
   "outputs": [],
   "source": [
    "# initiate STOPWORDS for NLP Processing\n",
    "STOPWORDS = set(STOPWORDS).union(set(['I', 'We', 'i', 'we', 'it', \"it's\", \n",
    "                                      'it', 'the', 'this', 'they', 'They',\n",
    "                                      'he', 'He', 'she', 'She', '\\n', '\\n\\n']))"
   ]
  },
  {
   "cell_type": "code",
   "execution_count": 46,
   "metadata": {},
   "outputs": [],
   "source": [
    "# create tokenize function to tokenize review text\n",
    "def tokenize(text):\n",
    "    return [token for token in simple_preprocess(text, deacc=True, min_len=4, max_len=40) if token not in STOPWORDS]"
   ]
  },
  {
   "cell_type": "code",
   "execution_count": 48,
   "metadata": {},
   "outputs": [],
   "source": [
    "# add tokens column to dataframe \n",
    "df['tokens'] = df['text'].apply(tokenize)"
   ]
  },
  {
   "cell_type": "code",
   "execution_count": 49,
   "metadata": {},
   "outputs": [
    {
     "data": {
      "text/html": [
       "<div>\n",
       "<style scoped>\n",
       "    .dataframe tbody tr th:only-of-type {\n",
       "        vertical-align: middle;\n",
       "    }\n",
       "\n",
       "    .dataframe tbody tr th {\n",
       "        vertical-align: top;\n",
       "    }\n",
       "\n",
       "    .dataframe thead th {\n",
       "        text-align: right;\n",
       "    }\n",
       "</style>\n",
       "<table border=\"1\" class=\"dataframe\">\n",
       "  <thead>\n",
       "    <tr style=\"text-align: right;\">\n",
       "      <th></th>\n",
       "      <th>stars</th>\n",
       "      <th>text</th>\n",
       "      <th>date</th>\n",
       "      <th>total_votes</th>\n",
       "      <th>tokens</th>\n",
       "    </tr>\n",
       "  </thead>\n",
       "  <tbody>\n",
       "    <tr>\n",
       "      <th>0</th>\n",
       "      <td>1.0</td>\n",
       "      <td>Total bill for this horrible service? Over $8G...</td>\n",
       "      <td>2013-05-07 04:34:36</td>\n",
       "      <td>7</td>\n",
       "      <td>[total, horrible, service, crooks, actually, n...</td>\n",
       "    </tr>\n",
       "    <tr>\n",
       "      <th>1</th>\n",
       "      <td>5.0</td>\n",
       "      <td>I *adore* Travis at the Hard Rock's new Kelly ...</td>\n",
       "      <td>2017-01-14 21:30:33</td>\n",
       "      <td>0</td>\n",
       "      <td>[adore, travis, hard, rock, kelly, cardenas, s...</td>\n",
       "    </tr>\n",
       "    <tr>\n",
       "      <th>2</th>\n",
       "      <td>5.0</td>\n",
       "      <td>I have to say that this office really has it t...</td>\n",
       "      <td>2016-11-09 20:09:03</td>\n",
       "      <td>3</td>\n",
       "      <td>[office, organized, friendly, phillipp, great,...</td>\n",
       "    </tr>\n",
       "    <tr>\n",
       "      <th>3</th>\n",
       "      <td>5.0</td>\n",
       "      <td>Went in for a lunch. Steak sandwich was delici...</td>\n",
       "      <td>2018-01-09 20:56:38</td>\n",
       "      <td>0</td>\n",
       "      <td>[went, lunch, steak, sandwich, delicious, caes...</td>\n",
       "    </tr>\n",
       "    <tr>\n",
       "      <th>4</th>\n",
       "      <td>1.0</td>\n",
       "      <td>Today was my second out of three sessions I ha...</td>\n",
       "      <td>2018-01-30 23:07:38</td>\n",
       "      <td>7</td>\n",
       "      <td>[today, second, sessions, paid, session, went,...</td>\n",
       "    </tr>\n",
       "  </tbody>\n",
       "</table>\n",
       "</div>"
      ],
      "text/plain": [
       "   stars                                               text  \\\n",
       "0    1.0  Total bill for this horrible service? Over $8G...   \n",
       "1    5.0  I *adore* Travis at the Hard Rock's new Kelly ...   \n",
       "2    5.0  I have to say that this office really has it t...   \n",
       "3    5.0  Went in for a lunch. Steak sandwich was delici...   \n",
       "4    1.0  Today was my second out of three sessions I ha...   \n",
       "\n",
       "                 date  total_votes  \\\n",
       "0 2013-05-07 04:34:36            7   \n",
       "1 2017-01-14 21:30:33            0   \n",
       "2 2016-11-09 20:09:03            3   \n",
       "3 2018-01-09 20:56:38            0   \n",
       "4 2018-01-30 23:07:38            7   \n",
       "\n",
       "                                              tokens  \n",
       "0  [total, horrible, service, crooks, actually, n...  \n",
       "1  [adore, travis, hard, rock, kelly, cardenas, s...  \n",
       "2  [office, organized, friendly, phillipp, great,...  \n",
       "3  [went, lunch, steak, sandwich, delicious, caes...  \n",
       "4  [today, second, sessions, paid, session, went,...  "
      ]
     },
     "execution_count": 49,
     "metadata": {},
     "output_type": "execute_result"
    }
   ],
   "source": [
    "# check to make sure tokens were added to dataframe correctly\n",
    "df.head()"
   ]
  },
  {
   "cell_type": "code",
   "execution_count": 50,
   "metadata": {},
   "outputs": [],
   "source": [
    "# export cleaned dataframe with tokenized text to .csv file\n",
    "df.to_csv(r'/Users/ianforrest/Desktop/coding/repos/yelp/yelp_dataset/df.csv')"
   ]
  },
  {
   "cell_type": "code",
   "execution_count": 54,
   "metadata": {},
   "outputs": [
    {
     "data": {
      "text/html": [
       "<div>\n",
       "<style scoped>\n",
       "    .dataframe tbody tr th:only-of-type {\n",
       "        vertical-align: middle;\n",
       "    }\n",
       "\n",
       "    .dataframe tbody tr th {\n",
       "        vertical-align: top;\n",
       "    }\n",
       "\n",
       "    .dataframe thead th {\n",
       "        text-align: right;\n",
       "    }\n",
       "</style>\n",
       "<table border=\"1\" class=\"dataframe\">\n",
       "  <thead>\n",
       "    <tr style=\"text-align: right;\">\n",
       "      <th></th>\n",
       "      <th>stars</th>\n",
       "      <th>text</th>\n",
       "      <th>date</th>\n",
       "      <th>total_votes</th>\n",
       "      <th>tokens</th>\n",
       "    </tr>\n",
       "  </thead>\n",
       "  <tbody>\n",
       "    <tr>\n",
       "      <th>1292098</th>\n",
       "      <td>1.0</td>\n",
       "      <td>In retrospect, I should have known better than...</td>\n",
       "      <td>2010-08-01 16:04:17</td>\n",
       "      <td>2256</td>\n",
       "      <td>[retrospect, known, better, step, foot, baking...</td>\n",
       "    </tr>\n",
       "    <tr>\n",
       "      <th>1218724</th>\n",
       "      <td>2.0</td>\n",
       "      <td>Dinner for 1.- PrefaceI went to Amy's Baking C...</td>\n",
       "      <td>2014-04-21 05:03:59</td>\n",
       "      <td>1692</td>\n",
       "      <td>[dinner, prefacei, went, baking, company, open...</td>\n",
       "    </tr>\n",
       "    <tr>\n",
       "      <th>1319233</th>\n",
       "      <td>1.0</td>\n",
       "      <td>This restaurant is horrible. First off the blu...</td>\n",
       "      <td>2013-08-22 05:02:56</td>\n",
       "      <td>1423</td>\n",
       "      <td>[restaurant, horrible, blue, ribbon, burger, s...</td>\n",
       "    </tr>\n",
       "    <tr>\n",
       "      <th>1331304</th>\n",
       "      <td>5.0</td>\n",
       "      <td>Flew to Arizona a few months ago to try this. ...</td>\n",
       "      <td>2017-11-12 08:06:13</td>\n",
       "      <td>1353</td>\n",
       "      <td>[flew, arizona, months, disappointed, place, c...</td>\n",
       "    </tr>\n",
       "    <tr>\n",
       "      <th>1300630</th>\n",
       "      <td>3.0</td>\n",
       "      <td>I actually suspect that a lot of people who ha...</td>\n",
       "      <td>2013-09-15 19:22:59</td>\n",
       "      <td>1169</td>\n",
       "      <td>[actually, suspect, people, written, reviews, ...</td>\n",
       "    </tr>\n",
       "    <tr>\n",
       "      <th>...</th>\n",
       "      <td>...</td>\n",
       "      <td>...</td>\n",
       "      <td>...</td>\n",
       "      <td>...</td>\n",
       "      <td>...</td>\n",
       "    </tr>\n",
       "    <tr>\n",
       "      <th>1304281</th>\n",
       "      <td>5.0</td>\n",
       "      <td>I have been going to RG for about 3 years now....</td>\n",
       "      <td>2014-02-02 00:43:12</td>\n",
       "      <td>0</td>\n",
       "      <td>[going, years, standard, changes, major, repai...</td>\n",
       "    </tr>\n",
       "    <tr>\n",
       "      <th>1304279</th>\n",
       "      <td>5.0</td>\n",
       "      <td>My five stars speaks little for the quality of...</td>\n",
       "      <td>2014-06-09 00:36:00</td>\n",
       "      <td>0</td>\n",
       "      <td>[stars, speaks, little, quality, food, lucky, ...</td>\n",
       "    </tr>\n",
       "    <tr>\n",
       "      <th>3925755</th>\n",
       "      <td>5.0</td>\n",
       "      <td>Friendly staff, comfortable fun place. Everyon...</td>\n",
       "      <td>2015-08-29 22:01:44</td>\n",
       "      <td>0</td>\n",
       "      <td>[friendly, staff, comfortable, place, nice, ki...</td>\n",
       "    </tr>\n",
       "    <tr>\n",
       "      <th>3925757</th>\n",
       "      <td>5.0</td>\n",
       "      <td>Passing through Monroeville and visiting famil...</td>\n",
       "      <td>2018-05-27 01:46:15</td>\n",
       "      <td>0</td>\n",
       "      <td>[passing, monroeville, visiting, family, looki...</td>\n",
       "    </tr>\n",
       "    <tr>\n",
       "      <th>3342949</th>\n",
       "      <td>1.0</td>\n",
       "      <td>Bland, mealy, starchy food. We had fish tacos ...</td>\n",
       "      <td>2017-03-27 02:15:48</td>\n",
       "      <td>0</td>\n",
       "      <td>[bland, mealy, starchy, food, fish, tacos, fis...</td>\n",
       "    </tr>\n",
       "  </tbody>\n",
       "</table>\n",
       "<p>6685899 rows × 5 columns</p>\n",
       "</div>"
      ],
      "text/plain": [
       "         stars                                               text  \\\n",
       "1292098    1.0  In retrospect, I should have known better than...   \n",
       "1218724    2.0  Dinner for 1.- PrefaceI went to Amy's Baking C...   \n",
       "1319233    1.0  This restaurant is horrible. First off the blu...   \n",
       "1331304    5.0  Flew to Arizona a few months ago to try this. ...   \n",
       "1300630    3.0  I actually suspect that a lot of people who ha...   \n",
       "...        ...                                                ...   \n",
       "1304281    5.0  I have been going to RG for about 3 years now....   \n",
       "1304279    5.0  My five stars speaks little for the quality of...   \n",
       "3925755    5.0  Friendly staff, comfortable fun place. Everyon...   \n",
       "3925757    5.0  Passing through Monroeville and visiting famil...   \n",
       "3342949    1.0  Bland, mealy, starchy food. We had fish tacos ...   \n",
       "\n",
       "                       date  total_votes  \\\n",
       "1292098 2010-08-01 16:04:17         2256   \n",
       "1218724 2014-04-21 05:03:59         1692   \n",
       "1319233 2013-08-22 05:02:56         1423   \n",
       "1331304 2017-11-12 08:06:13         1353   \n",
       "1300630 2013-09-15 19:22:59         1169   \n",
       "...                     ...          ...   \n",
       "1304281 2014-02-02 00:43:12            0   \n",
       "1304279 2014-06-09 00:36:00            0   \n",
       "3925755 2015-08-29 22:01:44            0   \n",
       "3925757 2018-05-27 01:46:15            0   \n",
       "3342949 2017-03-27 02:15:48            0   \n",
       "\n",
       "                                                    tokens  \n",
       "1292098  [retrospect, known, better, step, foot, baking...  \n",
       "1218724  [dinner, prefacei, went, baking, company, open...  \n",
       "1319233  [restaurant, horrible, blue, ribbon, burger, s...  \n",
       "1331304  [flew, arizona, months, disappointed, place, c...  \n",
       "1300630  [actually, suspect, people, written, reviews, ...  \n",
       "...                                                    ...  \n",
       "1304281  [going, years, standard, changes, major, repai...  \n",
       "1304279  [stars, speaks, little, quality, food, lucky, ...  \n",
       "3925755  [friendly, staff, comfortable, place, nice, ki...  \n",
       "3925757  [passing, monroeville, visiting, family, looki...  \n",
       "3342949  [bland, mealy, starchy, food, fish, tacos, fis...  \n",
       "\n",
       "[6685899 rows x 5 columns]"
      ]
     },
     "execution_count": 54,
     "metadata": {},
     "output_type": "execute_result"
    }
   ],
   "source": [
    "df.sort_values(['total_votes'], ascending=False)"
   ]
  },
  {
   "cell_type": "code",
   "execution_count": 55,
   "metadata": {},
   "outputs": [
    {
     "data": {
      "text/plain": [
       "'In retrospect, I should have known better than to step foot into Amy\\'s Baking Company (a.k.a. ABC Bistro).  -8 pm on a Saturday night, three tables are occupied-a sign on the door indicates they\\'re looking for an experienced line cook, a dishwasher, waitresses, you name it-Pita Jungle, just a stone\\'s throw away, is packed to the gillsThese are all bad signs.  They go ignored, however, because I\\'d eaten one thing all day, and I had drove here to try their pizza.  Never, ever again.The waitress brings me out a water and a menu to my table for one  on the patio, which I had all to myself.  Browsing the apps, I was pleasantly surprised to see several things priced $3, which seemed like a bargain, given the high price of everything else.  $3 tapanade sounded like a good deal, but I was informed that it didn\\'t come with anything - it was $3 extra for bread.  Since I was solo, I decided to skip it and instead pay $14 for their 12\" margherita pizza.  About three minutes later, the waitress drops off my pizza.  \"Your pizza\", she says, leaves a plate and off she goes.  I sat for a moment, confused as to how things happened so quickly.  I try to grab a slice of the pizza, but it was so blazing hot that I wasn\\'t even going to attempt to handle it.  I waited for a few minutes to let it cool off, only to discover that not only had it cooled enough to handle, but was actually well-cooled and most likely reheated.  After a closer inspection of the pie in front of me, it was evident that it had been reheated, as there were smaller tomatoes that had spent their time in the oven, and larger tomatoes that had barely been kissed by the heat of the oven.I took a bite, and was immediately underwhelmed.  The crust had very little character, was slightly sweet but had that store-bought quality to it.  The pesto tasted okay, but the tomatoes were completely tasteless and overall, it just fell flat.  It\\'s margherita - the ingredients need to shine to make such a simple pizza.  These ingredients were sub-par.  After two small pieces, I decided I was wasting my calories and just gave up on it.So I sat outside, not eating, and sat.  And sat.  Where the hell was the waitress?  I glanced inside a few times, hoping to catch her eye, but she must have been occupied elsewhere.  The owner comes out.  \"How\\'d you like your pizza?\"  Instead of immediately responding, I asked how it had come out so quickly.  In short, he told me another table had ordered it, decided they didn\\'t want it, and it sat in the kitchen for two minutes, who in turn decided to send it out to me since I didn\\'t order anything else.  Me: \"Well, it didn\\'t really taste fresh\".Him: \"No, no, our pizzas are the best.  Ask our customers.  You\\'re the first person since we\\'ve opened to ever not like our pizzas\".  He got very defensive about the pizza, but I hadn\\'t really launched a harsh criticism on the pizza, just said I didn\\'t really enjoy it.  So I sat some more, with an empty drink, and realized they wanted me gone.  The owner wouldn\\'t make eye contact with me.  The server never came back out asking if I wanted something else.  And they still hadn\\'t refilled my drink.So I sat on a patio, alone, and decided to have a smoke.  The waitress comes out...Her: \"Sir, there\\'s a no smoking sign over there, I was told to tell you to not to smoke here.\"  Me: \"Is this the last f*** you in this experience?\"Her: \"Yes, I think so\".She walks away.  I walk inside, pay the bill, and leave.  No apologies, no discounts on the bill, nothing.  $18 for weak iced tea and shitty pizza.This is arrogance in its worst form.  I can forgive bad food, but I cannot forgive misplaced arrogance and the blatant dismissal of a customer, whether you agree with them or not.  Perhaps the sign on the door should also say, \"Wanted: New owner\".  I cannot, for the life of me, recommend this restaurant to anyone.---UPDATE:Since Yelp\\'s 5000 character limit will not let me post the full response by the owner (Amy B.), here is a link to the comments:http://blogs.phoenixnewtimes.com/bella/2010/08/ouch_todays_hard_lesson_on_yel.php'"
      ]
     },
     "execution_count": 55,
     "metadata": {},
     "output_type": "execute_result"
    }
   ],
   "source": [
    "df.iloc[1292098,1]"
   ]
  },
  {
   "cell_type": "code",
   "execution_count": 1,
   "metadata": {},
   "outputs": [
    {
     "ename": "NameError",
     "evalue": "name 'df' is not defined",
     "output_type": "error",
     "traceback": [
      "\u001b[0;31m---------------------------------------------------------------------------\u001b[0m",
      "\u001b[0;31mNameError\u001b[0m                                 Traceback (most recent call last)",
      "\u001b[0;32m<ipython-input-1-5cc0934cc03c>\u001b[0m in \u001b[0;36m<module>\u001b[0;34m\u001b[0m\n\u001b[0;32m----> 1\u001b[0;31m \u001b[0mdf\u001b[0m\u001b[0;34m.\u001b[0m\u001b[0mdtypes\u001b[0m\u001b[0;34m\u001b[0m\u001b[0;34m\u001b[0m\u001b[0m\n\u001b[0m",
      "\u001b[0;31mNameError\u001b[0m: name 'df' is not defined"
     ]
    }
   ],
   "source": [
    "df.dtypes"
   ]
  },
  {
   "cell_type": "code",
   "execution_count": null,
   "metadata": {},
   "outputs": [],
   "source": []
  }
 ],
 "metadata": {
  "kernelspec": {
   "display_name": "conda_python3",
   "language": "python",
   "name": "conda_python3"
  },
  "language_info": {
   "codemirror_mode": {
    "name": "ipython",
    "version": 3
   },
   "file_extension": ".py",
   "mimetype": "text/x-python",
   "name": "python",
   "nbconvert_exporter": "python",
   "pygments_lexer": "ipython3",
   "version": "3.6.5"
  }
 },
 "nbformat": 4,
 "nbformat_minor": 4
}
