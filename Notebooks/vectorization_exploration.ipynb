{
 "cells": [
  {
   "cell_type": "markdown",
   "metadata": {},
   "source": [
    "### Testing New csv Load In Method"
   ]
  },
  {
   "cell_type": "code",
   "execution_count": null,
   "metadata": {},
   "outputs": [],
   "source": [
    "# Must Pip Install python-decouple each time. \n",
    "#!pip install python-decouple"
   ]
  },
  {
   "cell_type": "code",
   "execution_count": 6,
   "metadata": {},
   "outputs": [],
   "source": [
    "# Testing a Progress Bar Install for the Vectorizer. \n",
    "#import pyprind\n",
    "#import psutil\n",
    "# Importing TimeIt to view execution time\n",
    "import timeit"
   ]
  },
  {
   "cell_type": "code",
   "execution_count": 3,
   "metadata": {},
   "outputs": [],
   "source": [
    "import pandas as pd\n",
    "from sklearn.feature_extraction.text import TfidfVectorizer\n",
    "#import theano\n",
    "import spacy\n",
    "import s3\n",
    "nlp = spacy.load('en')"
   ]
  },
  {
   "cell_type": "code",
   "execution_count": 4,
   "metadata": {},
   "outputs": [],
   "source": [
    "# Everytime you enter\n",
    "bucket = s3.Bucket('yelpchallenge1')"
   ]
  },
  {
   "cell_type": "code",
   "execution_count": 5,
   "metadata": {},
   "outputs": [
    {
     "data": {
      "text/plain": [
       "['datasets/',\n",
       " 'datasets/df.csv',\n",
       " 'notebooks/',\n",
       " 'notebooks/data_cleanup.ipynb',\n",
       " 'notebooks/vectorization_exploration.ipynb',\n",
       " 'notebooks/yelp_data_initial_exploration.ipynb']"
      ]
     },
     "execution_count": 5,
     "metadata": {},
     "output_type": "execute_result"
    }
   ],
   "source": [
    "# Look inside the bucket.\n",
    "bucket.contents"
   ]
  },
  {
   "cell_type": "code",
   "execution_count": 4,
   "metadata": {},
   "outputs": [],
   "source": [
    "# Only have to run this once.\n",
    "# Installs the .csv 'Locally' on SageMaker Instance\n",
    "\n",
    "#bucket.get('datasets/df.csv', 'df.csv')"
   ]
  },
  {
   "cell_type": "code",
   "execution_count": 7,
   "metadata": {},
   "outputs": [
    {
     "name": "stderr",
     "output_type": "stream",
     "text": [
      "/home/ec2-user/anaconda3/envs/ydc1/lib/python3.7/site-packages/IPython/core/interactiveshell.py:3057: DtypeWarning: Columns (0,1,2,3,5) have mixed types. Specify dtype option on import or set low_memory=False.\n",
      "  interactivity=interactivity, compiler=compiler, result=result)\n"
     ]
    }
   ],
   "source": [
    "# Read df.csv\n",
    "# Veiwing Execution Time. \n",
    "%timeit \n",
    "df = pd.read_csv('df.csv')"
   ]
  },
  {
   "cell_type": "code",
   "execution_count": 8,
   "metadata": {},
   "outputs": [
    {
     "data": {
      "text/html": [
       "<div>\n",
       "<style scoped>\n",
       "    .dataframe tbody tr th:only-of-type {\n",
       "        vertical-align: middle;\n",
       "    }\n",
       "\n",
       "    .dataframe tbody tr th {\n",
       "        vertical-align: top;\n",
       "    }\n",
       "\n",
       "    .dataframe thead th {\n",
       "        text-align: right;\n",
       "    }\n",
       "</style>\n",
       "<table border=\"1\" class=\"dataframe\">\n",
       "  <thead>\n",
       "    <tr style=\"text-align: right;\">\n",
       "      <th></th>\n",
       "      <th>Unnamed: 0</th>\n",
       "      <th>stars</th>\n",
       "      <th>text</th>\n",
       "      <th>date</th>\n",
       "      <th>total_votes</th>\n",
       "      <th>tokens</th>\n",
       "    </tr>\n",
       "  </thead>\n",
       "  <tbody>\n",
       "    <tr>\n",
       "      <th>0</th>\n",
       "      <td>0</td>\n",
       "      <td>1</td>\n",
       "      <td>Total bill for this horrible service? Over $8G...</td>\n",
       "      <td>2013-05-07 04:34:36</td>\n",
       "      <td>7.0</td>\n",
       "      <td>['total', 'horrible', 'service', 'crooks', 'ac...</td>\n",
       "    </tr>\n",
       "    <tr>\n",
       "      <th>1</th>\n",
       "      <td>1</td>\n",
       "      <td>5</td>\n",
       "      <td>I *adore* Travis at the Hard Rock's new Kelly ...</td>\n",
       "      <td>2017-01-14 21:30:33</td>\n",
       "      <td>0.0</td>\n",
       "      <td>['adore', 'travis', 'hard', 'rock', 'kelly', '...</td>\n",
       "    </tr>\n",
       "    <tr>\n",
       "      <th>2</th>\n",
       "      <td>2</td>\n",
       "      <td>5</td>\n",
       "      <td>I have to say that this office really has it t...</td>\n",
       "      <td>2016-11-09 20:09:03</td>\n",
       "      <td>3.0</td>\n",
       "      <td>['office', 'organized', 'friendly', 'phillipp'...</td>\n",
       "    </tr>\n",
       "    <tr>\n",
       "      <th>3</th>\n",
       "      <td>3</td>\n",
       "      <td>5</td>\n",
       "      <td>Went in for a lunch. Steak sandwich was delici...</td>\n",
       "      <td>2018-01-09 20:56:38</td>\n",
       "      <td>0.0</td>\n",
       "      <td>['went', 'lunch', 'steak', 'sandwich', 'delici...</td>\n",
       "    </tr>\n",
       "    <tr>\n",
       "      <th>4</th>\n",
       "      <td>4</td>\n",
       "      <td>1</td>\n",
       "      <td>Today was my second out of three sessions I ha...</td>\n",
       "      <td>2018-01-30 23:07:38</td>\n",
       "      <td>7.0</td>\n",
       "      <td>['today', 'second', 'sessions', 'paid', 'sessi...</td>\n",
       "    </tr>\n",
       "  </tbody>\n",
       "</table>\n",
       "</div>"
      ],
      "text/plain": [
       "  Unnamed: 0 stars                                               text  \\\n",
       "0          0     1  Total bill for this horrible service? Over $8G...   \n",
       "1          1     5  I *adore* Travis at the Hard Rock's new Kelly ...   \n",
       "2          2     5  I have to say that this office really has it t...   \n",
       "3          3     5  Went in for a lunch. Steak sandwich was delici...   \n",
       "4          4     1  Today was my second out of three sessions I ha...   \n",
       "\n",
       "                  date  total_votes  \\\n",
       "0  2013-05-07 04:34:36          7.0   \n",
       "1  2017-01-14 21:30:33          0.0   \n",
       "2  2016-11-09 20:09:03          3.0   \n",
       "3  2018-01-09 20:56:38          0.0   \n",
       "4  2018-01-30 23:07:38          7.0   \n",
       "\n",
       "                                              tokens  \n",
       "0  ['total', 'horrible', 'service', 'crooks', 'ac...  \n",
       "1  ['adore', 'travis', 'hard', 'rock', 'kelly', '...  \n",
       "2  ['office', 'organized', 'friendly', 'phillipp'...  \n",
       "3  ['went', 'lunch', 'steak', 'sandwich', 'delici...  \n",
       "4  ['today', 'second', 'sessions', 'paid', 'sessi...  "
      ]
     },
     "execution_count": 8,
     "metadata": {},
     "output_type": "execute_result"
    }
   ],
   "source": [
    "# check import\n",
    "df.head()"
   ]
  },
  {
   "cell_type": "code",
   "execution_count": 9,
   "metadata": {},
   "outputs": [
    {
     "data": {
      "text/plain": [
       "Unnamed: 0      object\n",
       "stars           object\n",
       "text            object\n",
       "date            object\n",
       "total_votes    float64\n",
       "tokens          object\n",
       "dtype: object"
      ]
     },
     "execution_count": 9,
     "metadata": {},
     "output_type": "execute_result"
    }
   ],
   "source": [
    "# check datatypes of columns in dataframe\n",
    "df.dtypes"
   ]
  },
  {
   "cell_type": "code",
   "execution_count": 10,
   "metadata": {},
   "outputs": [],
   "source": [
    "# drop unwanted columns\n",
    "df = df.drop(columns=['Unnamed: 0'])"
   ]
  },
  {
   "cell_type": "code",
   "execution_count": 11,
   "metadata": {},
   "outputs": [
    {
     "data": {
      "text/html": [
       "<div>\n",
       "<style scoped>\n",
       "    .dataframe tbody tr th:only-of-type {\n",
       "        vertical-align: middle;\n",
       "    }\n",
       "\n",
       "    .dataframe tbody tr th {\n",
       "        vertical-align: top;\n",
       "    }\n",
       "\n",
       "    .dataframe thead th {\n",
       "        text-align: right;\n",
       "    }\n",
       "</style>\n",
       "<table border=\"1\" class=\"dataframe\">\n",
       "  <thead>\n",
       "    <tr style=\"text-align: right;\">\n",
       "      <th></th>\n",
       "      <th>stars</th>\n",
       "      <th>text</th>\n",
       "      <th>date</th>\n",
       "      <th>total_votes</th>\n",
       "      <th>tokens</th>\n",
       "    </tr>\n",
       "  </thead>\n",
       "  <tbody>\n",
       "    <tr>\n",
       "      <th>0</th>\n",
       "      <td>1</td>\n",
       "      <td>Total bill for this horrible service? Over $8G...</td>\n",
       "      <td>2013-05-07 04:34:36</td>\n",
       "      <td>7.0</td>\n",
       "      <td>['total', 'horrible', 'service', 'crooks', 'ac...</td>\n",
       "    </tr>\n",
       "    <tr>\n",
       "      <th>1</th>\n",
       "      <td>5</td>\n",
       "      <td>I *adore* Travis at the Hard Rock's new Kelly ...</td>\n",
       "      <td>2017-01-14 21:30:33</td>\n",
       "      <td>0.0</td>\n",
       "      <td>['adore', 'travis', 'hard', 'rock', 'kelly', '...</td>\n",
       "    </tr>\n",
       "    <tr>\n",
       "      <th>2</th>\n",
       "      <td>5</td>\n",
       "      <td>I have to say that this office really has it t...</td>\n",
       "      <td>2016-11-09 20:09:03</td>\n",
       "      <td>3.0</td>\n",
       "      <td>['office', 'organized', 'friendly', 'phillipp'...</td>\n",
       "    </tr>\n",
       "    <tr>\n",
       "      <th>3</th>\n",
       "      <td>5</td>\n",
       "      <td>Went in for a lunch. Steak sandwich was delici...</td>\n",
       "      <td>2018-01-09 20:56:38</td>\n",
       "      <td>0.0</td>\n",
       "      <td>['went', 'lunch', 'steak', 'sandwich', 'delici...</td>\n",
       "    </tr>\n",
       "    <tr>\n",
       "      <th>4</th>\n",
       "      <td>1</td>\n",
       "      <td>Today was my second out of three sessions I ha...</td>\n",
       "      <td>2018-01-30 23:07:38</td>\n",
       "      <td>7.0</td>\n",
       "      <td>['today', 'second', 'sessions', 'paid', 'sessi...</td>\n",
       "    </tr>\n",
       "  </tbody>\n",
       "</table>\n",
       "</div>"
      ],
      "text/plain": [
       "  stars                                               text  \\\n",
       "0     1  Total bill for this horrible service? Over $8G...   \n",
       "1     5  I *adore* Travis at the Hard Rock's new Kelly ...   \n",
       "2     5  I have to say that this office really has it t...   \n",
       "3     5  Went in for a lunch. Steak sandwich was delici...   \n",
       "4     1  Today was my second out of three sessions I ha...   \n",
       "\n",
       "                  date  total_votes  \\\n",
       "0  2013-05-07 04:34:36          7.0   \n",
       "1  2017-01-14 21:30:33          0.0   \n",
       "2  2016-11-09 20:09:03          3.0   \n",
       "3  2018-01-09 20:56:38          0.0   \n",
       "4  2018-01-30 23:07:38          7.0   \n",
       "\n",
       "                                              tokens  \n",
       "0  ['total', 'horrible', 'service', 'crooks', 'ac...  \n",
       "1  ['adore', 'travis', 'hard', 'rock', 'kelly', '...  \n",
       "2  ['office', 'organized', 'friendly', 'phillipp'...  \n",
       "3  ['went', 'lunch', 'steak', 'sandwich', 'delici...  \n",
       "4  ['today', 'second', 'sessions', 'paid', 'sessi...  "
      ]
     },
     "execution_count": 11,
     "metadata": {},
     "output_type": "execute_result"
    }
   ],
   "source": [
    "df.head()"
   ]
  },
  {
   "cell_type": "code",
   "execution_count": 12,
   "metadata": {},
   "outputs": [
    {
     "data": {
      "text/plain": [
       "stars           object\n",
       "text            object\n",
       "date            object\n",
       "total_votes    float64\n",
       "tokens          object\n",
       "dtype: object"
      ]
     },
     "execution_count": 12,
     "metadata": {},
     "output_type": "execute_result"
    }
   ],
   "source": [
    "df.dtypes"
   ]
  },
  {
   "cell_type": "code",
   "execution_count": 13,
   "metadata": {},
   "outputs": [
    {
     "data": {
      "text/plain": [
       "(6876898, 5)"
      ]
     },
     "execution_count": 13,
     "metadata": {},
     "output_type": "execute_result"
    }
   ],
   "source": [
    "df.shape"
   ]
  },
  {
   "cell_type": "code",
   "execution_count": 14,
   "metadata": {},
   "outputs": [],
   "source": [
    "# create mini-dataframe for testing\n",
    "# want to make sure works locally on small dataset before scaling to entire dataset/AWS\n",
    "#mini_df = df.head(10)"
   ]
  },
  {
   "cell_type": "code",
   "execution_count": 15,
   "metadata": {},
   "outputs": [],
   "source": [
    "# exploring TFIDF Vectorizer"
   ]
  },
  {
   "cell_type": "code",
   "execution_count": 16,
   "metadata": {},
   "outputs": [],
   "source": [
    "# new tokenizer\n",
    "# def tokenize(document):\n",
    "    # doc = nlp(document)\n",
    "    # return [token.lemma_ for token in doc if (token.is_stop != True) and (token.is_punct != True)]"
   ]
  },
  {
   "cell_type": "code",
   "execution_count": 17,
   "metadata": {},
   "outputs": [],
   "source": [
    "# create variable to feed into TFIDF Vectorizer fit_transform\n",
    "# to be updated to 'text' column of main dataframe (df['text']) for vectorization in AWS\n",
    "data = df['text']"
   ]
  },
  {
   "cell_type": "code",
   "execution_count": 18,
   "metadata": {},
   "outputs": [
    {
     "data": {
      "text/plain": [
       "0    Total bill for this horrible service? Over $8G...\n",
       "1    I *adore* Travis at the Hard Rock's new Kelly ...\n",
       "2    I have to say that this office really has it t...\n",
       "3    Went in for a lunch. Steak sandwich was delici...\n",
       "4    Today was my second out of three sessions I ha...\n",
       "Name: text, dtype: object"
      ]
     },
     "execution_count": 18,
     "metadata": {},
     "output_type": "execute_result"
    }
   ],
   "source": [
    "data.head()"
   ]
  },
  {
   "cell_type": "code",
   "execution_count": 19,
   "metadata": {},
   "outputs": [
    {
     "data": {
      "text/plain": [
       "(6876898,)"
      ]
     },
     "execution_count": 19,
     "metadata": {},
     "output_type": "execute_result"
    }
   ],
   "source": [
    "data.shape"
   ]
  },
  {
   "cell_type": "code",
   "execution_count": 20,
   "metadata": {},
   "outputs": [
    {
     "data": {
      "text/plain": [
       "131090"
      ]
     },
     "execution_count": 20,
     "metadata": {},
     "output_type": "execute_result"
    }
   ],
   "source": [
    "#Checking for missing values/ Before Drop.nas\n",
    "data.isna().sum()"
   ]
  },
  {
   "cell_type": "code",
   "execution_count": 21,
   "metadata": {},
   "outputs": [
    {
     "data": {
      "text/plain": [
       "True"
      ]
     },
     "execution_count": 21,
     "metadata": {},
     "output_type": "execute_result"
    }
   ],
   "source": [
    "data.isna().any()"
   ]
  },
  {
   "cell_type": "code",
   "execution_count": 22,
   "metadata": {},
   "outputs": [],
   "source": [
    "# Dropping na from Data\n",
    "data = data.dropna()"
   ]
  },
  {
   "cell_type": "code",
   "execution_count": 23,
   "metadata": {},
   "outputs": [
    {
     "data": {
      "text/plain": [
       "0"
      ]
     },
     "execution_count": 23,
     "metadata": {},
     "output_type": "execute_result"
    }
   ],
   "source": [
    "#BEGONE NON-EXISTENT DATA\n",
    "data.isna().sum()"
   ]
  },
  {
   "cell_type": "code",
   "execution_count": 26,
   "metadata": {},
   "outputs": [
    {
     "data": {
      "text/plain": [
       "\"I have to say that this office really has it together, they are so organized and friendly!  Dr. J. Phillipp is a great dentist, very friendly and professional.  The dental assistants that helped in my procedure were amazing, Jewel and Bailey helped me to feel comfortable!  I don't have dental insurance, but they have this insurance through their office you can purchase for $80 something a year and this gave me 25% off all of my dental work, plus they helped me get signed up for care credit which I knew nothing about before this visit!  I highly recommend this office for the nice synergy the whole office has!\""
      ]
     },
     "execution_count": 26,
     "metadata": {},
     "output_type": "execute_result"
    }
   ],
   "source": [
    "data[2]"
   ]
  },
  {
   "cell_type": "code",
   "execution_count": 43,
   "metadata": {},
   "outputs": [],
   "source": [
    "# vectorizer\n",
    "from sklearn.feature_extraction.text import TfidfVectorizer\n",
    "tfidf = TfidfVectorizer(tokenizer=tokenize, min_df=0.025, max_df=.95, ngram_range=(1,2))\n",
    "\n",
    "# Create a vocabulary and get word counts per document\n",
    "# Learn vocab and transform data into form we want\n",
    "\n",
    "    # Started at 7:09 PM / 11-24-19\n",
    "    # data_1 has 3,372,904 rows\n",
    "\n",
    "# sparse = tfidf.fit_transform(data_1)\n",
    "\n",
    "# Print word counts\n",
    "    # print('Vocabulary: ')\n",
    "    #print(vect.vocabulary_)\n",
    "    \n",
    "# Get feature names to use as dataframe column headers\n",
    "\n",
    "# dtm = pd.DataFrame(sparse.todense(), columns=tfidf.get_feature_names())\n",
    "\n",
    "# View Feature Matrix as DataFrame\n",
    "\n",
    "#dtm.head(50)"
   ]
  },
  {
   "cell_type": "markdown",
   "metadata": {},
   "source": [
    "# Testing By Breaking Up Data"
   ]
  },
  {
   "cell_type": "code",
   "execution_count": 26,
   "metadata": {},
   "outputs": [
    {
     "name": "stdout",
     "output_type": "stream",
     "text": [
      "(6745808,)\n"
     ]
    }
   ],
   "source": [
    "# Attempting to Break Up Data\n",
    "    # Breaking up data column into TWO Columns. \n",
    "        # data_1 & data_2 \n",
    "        # data_1 will have 3,372,904 rows. \n",
    "        # data_2 will have 3,372,905 rows. \n",
    "#\n",
    "#print(data.shape)\n",
    "#data_1 = data[0:1686452]\n",
    "#data_2 = data[1686452]\n",
    "#print(data_1)"
   ]
  },
  {
   "cell_type": "code",
   "execution_count": null,
   "metadata": {},
   "outputs": [],
   "source": [
    "# Testing by calling fit and transform separately on data_1\n",
    "# Using %%timeit to see execution time. \n",
    "#%timeit\n",
    "# Started at 6:49 PM / 11-25-19\n",
    "#fitted_V = tfidf.fit(data_1)"
   ]
  },
  {
   "cell_type": "markdown",
   "metadata": {},
   "source": [
    "# Testing Something New"
   ]
  },
  {
   "cell_type": "code",
   "execution_count": 32,
   "metadata": {},
   "outputs": [
    {
     "data": {
      "text/plain": [
       "stars          131088\n",
       "text           131090\n",
       "date           190999\n",
       "total_votes    191022\n",
       "tokens         191022\n",
       "dtype: int64"
      ]
     },
     "execution_count": 32,
     "metadata": {},
     "output_type": "execute_result"
    }
   ],
   "source": [
    "# Checking for Missing Values in DataFrame\n",
    "df.isna().sum()"
   ]
  },
  {
   "cell_type": "code",
   "execution_count": 33,
   "metadata": {},
   "outputs": [
    {
     "data": {
      "text/plain": [
       "stars          131088\n",
       "text           131090\n",
       "date           190999\n",
       "total_votes    191022\n",
       "tokens         191022\n",
       "dtype: int64"
      ]
     },
     "execution_count": 33,
     "metadata": {},
     "output_type": "execute_result"
    }
   ],
   "source": [
    "df.isnull().sum()"
   ]
  },
  {
   "cell_type": "code",
   "execution_count": 40,
   "metadata": {},
   "outputs": [],
   "source": [
    "# Dropping Missing Values \n",
    "df = df.dropna()"
   ]
  },
  {
   "cell_type": "code",
   "execution_count": 41,
   "metadata": {},
   "outputs": [
    {
     "data": {
      "text/plain": [
       "stars          0\n",
       "text           0\n",
       "date           0\n",
       "total_votes    0\n",
       "tokens         0\n",
       "dtype: int64"
      ]
     },
     "execution_count": 41,
     "metadata": {},
     "output_type": "execute_result"
    }
   ],
   "source": [
    "# Checking to see if it worked.\n",
    "df.isna().sum()"
   ]
  },
  {
   "cell_type": "code",
   "execution_count": 42,
   "metadata": {},
   "outputs": [
    {
     "data": {
      "text/plain": [
       "(6685874, 5)"
      ]
     },
     "execution_count": 42,
     "metadata": {},
     "output_type": "execute_result"
    }
   ],
   "source": [
    "# Checking Shape\n",
    "df.shape"
   ]
  },
  {
   "cell_type": "code",
   "execution_count": 44,
   "metadata": {},
   "outputs": [],
   "source": [
    "# Since we already have the tokens in the DF,\n",
    "# we can possibly fit it directly and bypass stop word/punct filtering. \n",
    "\n",
    "### WORKED / 1:40 PM / 11-28-2019 ###\n",
    "\n",
    "# vectorizer\n",
    "from sklearn.feature_extraction.text import TfidfVectorizer\n",
    "tfidf = TfidfVectorizer(tokenizer=tokenize, min_df=0.025, max_df=.95, ngram_range=(1,2))\n",
    "\n",
    "\n",
    "vect = tfidf.fit(df.tokens[0:10000])\n",
    "# Started at 1:25 PM / 11-28-2019\n",
    "\n"
   ]
  },
  {
   "cell_type": "code",
   "execution_count": 58,
   "metadata": {},
   "outputs": [
    {
     "name": "stdout",
     "output_type": "stream",
     "text": [
      "'Vocabulary: '\n",
      "{\n",
      "    'able': 0,\n",
      "    'absolutely': 1,\n",
      "    'actually': 2,\n",
      "    'amazing': 3,\n",
      "    'appetizer': 4,\n",
      "    'area': 5,\n",
      "    'arrive': 6,\n",
      "    'ask': 7,\n",
      "    'atmosphere': 8,\n",
      "    'attentive': 9,\n",
      "    'away': 10,\n",
      "    'awesome': 11,\n",
      "    'bad': 12,\n",
      "    'beef': 13,\n",
      "    'beer': 14,\n",
      "    'better': 15,\n",
      "    'bread': 16,\n",
      "    'breakfast': 17,\n",
      "    'bring': 18,\n",
      "    'burger': 19,\n",
      "    'business': 20,\n",
      "    'busy': 21,\n",
      "    'call': 22,\n",
      "    'care': 23,\n",
      "    'change': 24,\n",
      "    'charge': 25,\n",
      "    'cheap': 26,\n",
      "    'check': 27,\n",
      "    'cheese': 28,\n",
      "    'chicken': 29,\n",
      "    'choice': 30,\n",
      "    'choose': 31,\n",
      "    'clean': 32,\n",
      "    'close': 33,\n",
      "    'coffee': 34,\n",
      "    'cold': 35,\n",
      "    'come': 36,\n",
      "    'company': 37,\n",
      "    'cook': 38,\n",
      "    'cool': 39,\n",
      "    'couldn': 40,\n",
      "    'couple': 41,\n",
      "    'course': 42,\n",
      "    'cream': 43,\n",
      "    'customer': 44,\n",
      "    'customer service': 45,\n",
      "    'day': 46,\n",
      "    'deal': 47,\n",
      "    'decent': 48,\n",
      "    'decide': 49,\n",
      "    'decor': 50,\n",
      "    'definitely': 51,\n",
      "    'delicious': 52,\n",
      "    'dessert': 53,\n",
      "    'different': 54,\n",
      "    'dinner': 55,\n",
      "    'disappoint': 56,\n",
      "    'dish': 57,\n",
      "    'door': 58,\n",
      "    'drink': 59,\n",
      "    'drive': 60,\n",
      "    'easy': 61,\n",
      "    'eat': 62,\n",
      "    'employee': 63,\n",
      "    'end': 64,\n",
      "    'enjoy': 65,\n",
      "    'especially': 66,\n",
      "    'excellent': 67,\n",
      "    'expect': 68,\n",
      "    'expensive': 69,\n",
      "    'experience': 70,\n",
      "    'extra': 71,\n",
      "    'extremely': 72,\n",
      "    'family': 73,\n",
      "    'fantastic': 74,\n",
      "    'fast': 75,\n",
      "    'favorite': 76,\n",
      "    'feel': 77,\n",
      "    'feel like': 78,\n",
      "    'finally': 79,\n",
      "    'fine': 80,\n",
      "    'finish': 81,\n",
      "    'fish': 82,\n",
      "    'flavor': 83,\n",
      "    'food': 84,\n",
      "    'food good': 85,\n",
      "    'free': 86,\n",
      "    'fresh': 87,\n",
      "    'friend': 88,\n",
      "    'friendly': 89,\n",
      "    'fry': 90,\n",
      "    'get': 91,\n",
      "    'girl': 92,\n",
      "    'give': 93,\n",
      "    'go': 94,\n",
      "    'good': 95,\n",
      "    'great': 96,\n",
      "    'green': 97,\n",
      "    'group': 98,\n",
      "    'guy': 99,\n",
      "    'half': 100,\n",
      "    'hand': 101,\n",
      "    'happen': 102,\n",
      "    'happy': 103,\n",
      "    'hard': 104,\n",
      "    'have': 105,\n",
      "    'hear': 106,\n",
      "    'help': 107,\n",
      "    'helpful': 108,\n",
      "    'high': 109,\n",
      "    'highly': 110,\n",
      "    'highly recommend': 111,\n",
      "    'home': 112,\n",
      "    'hotel': 113,\n",
      "    'hour': 114,\n",
      "    'house': 115,\n",
      "    'huge': 116,\n",
      "    'husband': 117,\n",
      "    'include': 118,\n",
      "    'inside': 119,\n",
      "    'instead': 120,\n",
      "    'issue': 121,\n",
      "    'item': 122,\n",
      "    'keep': 123,\n",
      "    'kid': 124,\n",
      "    'kind': 125,\n",
      "    'know': 126,\n",
      "    'lady': 127,\n",
      "    'large': 128,\n",
      "    'later': 129,\n",
      "    'leave': 130,\n",
      "    'light': 131,\n",
      "    'like': 132,\n",
      "    'line': 133,\n",
      "    'little': 134,\n",
      "    'live': 135,\n",
      "    'local': 136,\n",
      "    'location': 137,\n",
      "    'long': 138,\n",
      "    'look': 139,\n",
      "    'love': 140,\n",
      "    'love place': 141,\n",
      "    'lunch': 142,\n",
      "    'make': 143,\n",
      "    'manager': 144,\n",
      "    'maybe': 145,\n",
      "    'meal': 146,\n",
      "    'mean': 147,\n",
      "    'meat': 148,\n",
      "    'menu': 149,\n",
      "    'minute': 150,\n",
      "    'miss': 151,\n",
      "    'money': 152,\n",
      "    'month': 153,\n",
      "    'music': 154,\n",
      "    'need': 155,\n",
      "    'nice': 156,\n",
      "    'night': 157,\n",
      "    'offer': 158,\n",
      "    'okay': 159,\n",
      "    'open': 160,\n",
      "    'option': 161,\n",
      "    'order': 162,\n",
      "    'outside': 163,\n",
      "    'overall': 164,\n",
      "    'owner': 165,\n",
      "    'parking': 166,\n",
      "    'party': 167,\n",
      "    'pay': 168,\n",
      "    'people': 169,\n",
      "    'perfect': 170,\n",
      "    'person': 171,\n",
      "    'phone': 172,\n",
      "    'pick': 173,\n",
      "    'pizza': 174,\n",
      "    'place': 175,\n",
      "    'plate': 176,\n",
      "    'play': 177,\n",
      "    'plus': 178,\n",
      "    'point': 179,\n",
      "    'pork': 180,\n",
      "    'portion': 181,\n",
      "    'potato': 182,\n",
      "    'pretty': 183,\n",
      "    'price': 184,\n",
      "    'probably': 185,\n",
      "    'problem': 186,\n",
      "    'professional': 187,\n",
      "    'quality': 188,\n",
      "    'quick': 189,\n",
      "    'quickly': 190,\n",
      "    'real': 191,\n",
      "    'reason': 192,\n",
      "    'reasonable': 193,\n",
      "    'receive': 194,\n",
      "    'recommend': 195,\n",
      "    'regular': 196,\n",
      "    'restaurant': 197,\n",
      "    'return': 198,\n",
      "    'review': 199,\n",
      "    'rice': 200,\n",
      "    'right': 201,\n",
      "    'roll': 202,\n",
      "    'room': 203,\n",
      "    'rude': 204,\n",
      "    'salad': 205,\n",
      "    'sandwich': 206,\n",
      "    'sauce': 207,\n",
      "    'say': 208,\n",
      "    'seat': 209,\n",
      "    'second': 210,\n",
      "    'see': 211,\n",
      "    'selection': 212,\n",
      "    'serve': 213,\n",
      "    'server': 214,\n",
      "    'service': 215,\n",
      "    'shop': 216,\n",
      "    'short': 217,\n",
      "    'show': 218,\n",
      "    'shrimp': 219,\n",
      "    'size': 220,\n",
      "    'small': 221,\n",
      "    'soon': 222,\n",
      "    'soup': 223,\n",
      "    'special': 224,\n",
      "    'spend': 225,\n",
      "    'spicy': 226,\n",
      "    'spot': 227,\n",
      "    'staff': 228,\n",
      "    'stand': 229,\n",
      "    'star': 230,\n",
      "    'start': 231,\n",
      "    'stay': 232,\n",
      "    'steak': 233,\n",
      "    'stop': 234,\n",
      "    'store': 235,\n",
      "    'strip': 236,\n",
      "    'stuff': 237,\n",
      "    'style': 238,\n",
      "    'super': 239,\n",
      "    'sure': 240,\n",
      "    'surprise': 241,\n",
      "    'sweet': 242,\n",
      "    'table': 243,\n",
      "    'taco': 244,\n",
      "    'take': 245,\n",
      "    'talk': 246,\n",
      "    'taste': 247,\n",
      "    'tasty': 248,\n",
      "    'tell': 249,\n",
      "    'thank': 250,\n",
      "    'thing': 251,\n",
      "    'think': 252,\n",
      "    'time': 253,\n",
      "    'today': 254,\n",
      "    'town': 255,\n",
      "    'treat': 256,\n",
      "    'trip': 257,\n",
      "    'try': 258,\n",
      "    'turn': 259,\n",
      "    'usually': 260,\n",
      "    'vegas': 261,\n",
      "    'visit': 262,\n",
      "    'wait': 263,\n",
      "    'waiter': 264,\n",
      "    'waitress': 265,\n",
      "    'walk': 266,\n",
      "    'want': 267,\n",
      "    'wasn': 268,\n",
      "    'watch': 269,\n",
      "    'water': 270,\n",
      "    'week': 271,\n",
      "    'wife': 272,\n",
      "    'wine': 273,\n",
      "    'wish': 274,\n",
      "    'wonderful': 275,\n",
      "    'work': 276,\n",
      "    'worth': 277,\n",
      "    'wouldn': 278,\n",
      "    'wrong': 279,\n",
      "    'year': 280,\n",
      "    'yelp': 281,\n",
      "}\n"
     ]
    }
   ],
   "source": [
    "# Importing PrettyPrint to view \n",
    "from pprintpp import pprint as pp\n",
    "\n",
    "# Checking to see if it worked....\n",
    "# Print word counts\n",
    "\n",
    "pp('Vocabulary: ')\n",
    "pp(vect.vocabulary_)"
   ]
  },
  {
   "cell_type": "code",
   "execution_count": null,
   "metadata": {},
   "outputs": [],
   "source": [
    "dtm = pd.DataFrame(sparse.todense(), columns=tfidf.get_feature_names())"
   ]
  },
  {
   "cell_type": "code",
   "execution_count": null,
   "metadata": {},
   "outputs": [],
   "source": []
  },
  {
   "cell_type": "code",
   "execution_count": null,
   "metadata": {},
   "outputs": [],
   "source": []
  },
  {
   "cell_type": "code",
   "execution_count": null,
   "metadata": {},
   "outputs": [],
   "source": []
  },
  {
   "cell_type": "code",
   "execution_count": null,
   "metadata": {},
   "outputs": [],
   "source": []
  },
  {
   "cell_type": "code",
   "execution_count": null,
   "metadata": {},
   "outputs": [],
   "source": []
  },
  {
   "cell_type": "code",
   "execution_count": null,
   "metadata": {},
   "outputs": [],
   "source": []
  },
  {
   "cell_type": "code",
   "execution_count": null,
   "metadata": {},
   "outputs": [],
   "source": []
  },
  {
   "cell_type": "code",
   "execution_count": null,
   "metadata": {},
   "outputs": [],
   "source": []
  },
  {
   "cell_type": "code",
   "execution_count": null,
   "metadata": {},
   "outputs": [],
   "source": []
  },
  {
   "cell_type": "code",
   "execution_count": null,
   "metadata": {},
   "outputs": [],
   "source": []
  },
  {
   "cell_type": "code",
   "execution_count": null,
   "metadata": {},
   "outputs": [],
   "source": []
  },
  {
   "cell_type": "code",
   "execution_count": null,
   "metadata": {},
   "outputs": [],
   "source": []
  },
  {
   "cell_type": "markdown",
   "metadata": {},
   "source": [
    "## Testing a Progress Bar install for Vectorizer"
   ]
  },
  {
   "cell_type": "code",
   "execution_count": null,
   "metadata": {},
   "outputs": [],
   "source": [
    "# Testing a Progress Bar Install for the Vectorizer.\n",
    "# Works pretty quickly..\n",
    "# Given that nothing is running.. HA! \n",
    "# Also a pointless feature that I spent 20 minutes on. . . \n",
    "\n",
    "#import pyprind\n",
    "#import psutil\n",
    "#import random\n",
    "#import time\n",
    "\n",
    "#n = 100\n",
    "#bar = pyprind.ProgBar(n, monitor=True)\n",
    "#for i in range(n):\n",
    "    #time.sleep(0.05)\n",
    "#tfidf = TfidfVectorizer(tokenizer=tokenize, min_df=0.025, max_df=.95, ngram_range=(1,2))\n",
    "    #bar.update()\n",
    "#print(bar)"
   ]
  }
 ],
 "metadata": {
  "kernelspec": {
   "display_name": "conda_ydc1",
   "language": "python",
   "name": "conda_ydc1"
  },
  "language_info": {
   "codemirror_mode": {
    "name": "ipython",
    "version": 3
   },
   "file_extension": ".py",
   "mimetype": "text/x-python",
   "name": "python",
   "nbconvert_exporter": "python",
   "pygments_lexer": "ipython3",
   "version": "3.7.3"
  }
 },
 "nbformat": 4,
 "nbformat_minor": 4
}
